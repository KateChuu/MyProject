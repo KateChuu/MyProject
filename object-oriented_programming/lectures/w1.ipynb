{
 "cells": [
  {
   "cell_type": "code",
   "execution_count": 1,
   "id": "835bc886",
   "metadata": {},
   "outputs": [],
   "source": [
    "import numpy as np"
   ]
  },
  {
   "cell_type": "code",
   "execution_count": 2,
   "id": "53e07b98",
   "metadata": {},
   "outputs": [],
   "source": [
    "np?"
   ]
  },
  {
   "cell_type": "code",
   "execution_count": 2,
   "id": "fd166408",
   "metadata": {},
   "outputs": [],
   "source": [
    "b = np.array([[1,2]\n",
    "             ,[3,4]])"
   ]
  },
  {
   "cell_type": "code",
   "execution_count": 3,
   "id": "d36c6250",
   "metadata": {},
   "outputs": [
    {
     "data": {
      "text/plain": [
       "array([[1, 2],\n",
       "       [3, 4]])"
      ]
     },
     "execution_count": 3,
     "metadata": {},
     "output_type": "execute_result"
    }
   ],
   "source": [
    "b"
   ]
  },
  {
   "cell_type": "markdown",
   "id": "fc121afb",
   "metadata": {},
   "source": [
    "# creating arrays from scratch"
   ]
  },
  {
   "cell_type": "code",
   "execution_count": 7,
   "id": "b6b595b4",
   "metadata": {},
   "outputs": [
    {
     "data": {
      "text/plain": [
       "array([0, 0, 0, 0, 0, 0, 0, 0, 0, 0])"
      ]
     },
     "execution_count": 7,
     "metadata": {},
     "output_type": "execute_result"
    }
   ],
   "source": [
    "np.zeros(10, dtype=int) # defualt type is float"
   ]
  },
  {
   "cell_type": "code",
   "execution_count": 8,
   "id": "452d35f1",
   "metadata": {},
   "outputs": [
    {
     "data": {
      "text/plain": [
       "array([[1., 1., 1., 1., 1.],\n",
       "       [1., 1., 1., 1., 1.],\n",
       "       [1., 1., 1., 1., 1.]])"
      ]
     },
     "execution_count": 8,
     "metadata": {},
     "output_type": "execute_result"
    }
   ],
   "source": [
    "np.ones((3, 5), dtype=int) # defualt type is float"
   ]
  },
  {
   "cell_type": "code",
   "execution_count": 10,
   "id": "d9865309",
   "metadata": {},
   "outputs": [
    {
     "data": {
      "text/plain": [
       "array([[3.14, 3.14, 3.14, 3.14],\n",
       "       [3.14, 3.14, 3.14, 3.14],\n",
       "       [3.14, 3.14, 3.14, 3.14]])"
      ]
     },
     "execution_count": 10,
     "metadata": {},
     "output_type": "execute_result"
    }
   ],
   "source": [
    "np.full((3, 4), 3.14)"
   ]
  },
  {
   "cell_type": "code",
   "execution_count": 12,
   "id": "42e719f3",
   "metadata": {},
   "outputs": [
    {
     "data": {
      "text/plain": [
       "array([ 0,  2,  4,  6,  8, 10, 12, 14, 16, 18])"
      ]
     },
     "execution_count": 12,
     "metadata": {},
     "output_type": "execute_result"
    }
   ],
   "source": [
    "# np.arange(start, stop, step)\n",
    "np.arange(0, 20, 2)"
   ]
  },
  {
   "cell_type": "code",
   "execution_count": 10,
   "id": "9fafb704",
   "metadata": {},
   "outputs": [
    {
     "data": {
      "text/plain": [
       "array([0. , 0.5, 1. , 1.5, 2. ])"
      ]
     },
     "execution_count": 10,
     "metadata": {},
     "output_type": "execute_result"
    }
   ],
   "source": [
    "np.linspace(0, 2, 5) # cut the distance from 0 to 2 to 5 pieces"
   ]
  },
  {
   "cell_type": "code",
   "execution_count": 12,
   "id": "042064ff",
   "metadata": {},
   "outputs": [
    {
     "data": {
      "text/plain": [
       "array([[0.94354686, 0.64509639, 0.93712115],\n",
       "       [0.25813313, 0.32278709, 0.96965934],\n",
       "       [0.84316841, 0.53862164, 0.72218942]])"
      ]
     },
     "execution_count": 12,
     "metadata": {},
     "output_type": "execute_result"
    }
   ],
   "source": [
    "# the first random is name of module, second one is the name of function?\n",
    "# the numbers produced are between 0 and 1\n",
    "np.random.random((3,3))"
   ]
  },
  {
   "cell_type": "code",
   "execution_count": 19,
   "id": "29b3e30c",
   "metadata": {},
   "outputs": [
    {
     "data": {
      "text/plain": [
       "array([[4, 9, 0],\n",
       "       [8, 5, 2],\n",
       "       [4, 7, 8],\n",
       "       [6, 0, 5]])"
      ]
     },
     "execution_count": 19,
     "metadata": {},
     "output_type": "execute_result"
    }
   ],
   "source": [
    "# this one produces int\n",
    "np.random.randint(0, 10, (4, 3))"
   ]
  },
  {
   "cell_type": "code",
   "execution_count": 18,
   "id": "7de80163",
   "metadata": {},
   "outputs": [
    {
     "data": {
      "text/plain": [
       "array([[-0.90216834,  0.33531044,  1.42306476],\n",
       "       [ 1.65469   , -1.91026903,  1.40366546],\n",
       "       [-1.4973283 ,  1.63423287, -2.08620542]])"
      ]
     },
     "execution_count": 18,
     "metadata": {},
     "output_type": "execute_result"
    }
   ],
   "source": [
    "# create an 3x3 array of normal distribution with mean 0 and stand deviation 1\n",
    "np.random.normal(0, 1, (3, 3))"
   ]
  },
  {
   "cell_type": "markdown",
   "id": "dc6523a6",
   "metadata": {},
   "source": [
    "# basics of Numpy arrays"
   ]
  },
  {
   "cell_type": "code",
   "execution_count": 20,
   "id": "a5a9f727",
   "metadata": {},
   "outputs": [],
   "source": [
    "# we set a fixed seed so that the produced numbers will also be fixed\n",
    "np.random.seed(0)"
   ]
  },
  {
   "cell_type": "code",
   "execution_count": 21,
   "id": "4446a402",
   "metadata": {},
   "outputs": [],
   "source": [
    "x1 = np.random.randint(10, size = 6)\n",
    "x2 = np.random.randint(10, size = (3, 4)) # 2-dim array\n",
    "x3 = np.random.randint(10, size = (3, 4, 5)) # 3-dim array"
   ]
  },
  {
   "cell_type": "code",
   "execution_count": 22,
   "id": "d383cc1d",
   "metadata": {},
   "outputs": [
    {
     "data": {
      "text/plain": [
       "(1, 2, 3)"
      ]
     },
     "execution_count": 22,
     "metadata": {},
     "output_type": "execute_result"
    }
   ],
   "source": [
    "x1.ndim, x2.ndim, x3.ndim"
   ]
  },
  {
   "cell_type": "code",
   "execution_count": 23,
   "id": "7505f791",
   "metadata": {},
   "outputs": [
    {
     "name": "stdout",
     "output_type": "stream",
     "text": [
      "(6,) (3, 4) (3, 4, 5)\n"
     ]
    }
   ],
   "source": [
    "print(x1.shape, x2.shape, x3.shape)"
   ]
  },
  {
   "cell_type": "code",
   "execution_count": 24,
   "id": "bf68d16a",
   "metadata": {},
   "outputs": [
    {
     "name": "stdout",
     "output_type": "stream",
     "text": [
      "[5 0 3 3 7 9] \n",
      "\n",
      "\n",
      "[[3 5 2 4]\n",
      " [7 6 8 8]\n",
      " [1 6 7 7]] \n",
      "\n",
      "\n",
      "[[[8 1 5 9 8]\n",
      "  [9 4 3 0 3]\n",
      "  [5 0 2 3 8]\n",
      "  [1 3 3 3 7]]\n",
      "\n",
      " [[0 1 9 9 0]\n",
      "  [4 7 3 2 7]\n",
      "  [2 0 0 4 5]\n",
      "  [5 6 8 4 1]]\n",
      "\n",
      " [[4 9 8 1 1]\n",
      "  [7 9 9 3 6]\n",
      "  [7 2 0 3 5]\n",
      "  [9 4 4 6 4]]]\n"
     ]
    }
   ],
   "source": [
    "print(x1, '\\n\\n')\n",
    "print(x2, '\\n\\n')\n",
    "print(x3) # 3 4x5 arrays"
   ]
  },
  {
   "cell_type": "code",
   "execution_count": 25,
   "id": "cd6ded38",
   "metadata": {},
   "outputs": [
    {
     "data": {
      "text/plain": [
       "(6, 12, 60)"
      ]
     },
     "execution_count": 25,
     "metadata": {},
     "output_type": "execute_result"
    }
   ],
   "source": [
    "# size: the number of elements inside the array (shape 的數字相乘)\n",
    "x1.size, x2.size, x3.size"
   ]
  },
  {
   "cell_type": "code",
   "execution_count": 26,
   "id": "3bb5c375",
   "metadata": {},
   "outputs": [
    {
     "data": {
      "text/plain": [
       "(4, 4, 4)"
      ]
     },
     "execution_count": 26,
     "metadata": {},
     "output_type": "execute_result"
    }
   ],
   "source": [
    "# the numbers of the arrays are all 4 byte\n",
    "x1.itemsize, x2.itemsize, x3.itemsize"
   ]
  },
  {
   "cell_type": "code",
   "execution_count": 27,
   "id": "9d50f554",
   "metadata": {},
   "outputs": [
    {
     "data": {
      "text/plain": [
       "(24, 48, 240)"
      ]
     },
     "execution_count": 27,
     "metadata": {},
     "output_type": "execute_result"
    }
   ],
   "source": [
    "# nbytes: total array size = 4 byte * how many elements\n",
    "x1.nbytes, x2.nbytes, x3.nbytes"
   ]
  },
  {
   "cell_type": "code",
   "execution_count": 28,
   "id": "01afd19f",
   "metadata": {},
   "outputs": [
    {
     "data": {
      "text/plain": [
       "(3, 7)"
      ]
     },
     "execution_count": 28,
     "metadata": {},
     "output_type": "execute_result"
    }
   ],
   "source": [
    "x2[0,0], x2[-1, 2]"
   ]
  },
  {
   "cell_type": "code",
   "execution_count": 29,
   "id": "058f2fe0",
   "metadata": {},
   "outputs": [
    {
     "data": {
      "text/plain": [
       "array([[3, 5, 2, 4],\n",
       "       [7, 6, 8, 8],\n",
       "       [1, 6, 7, 7]])"
      ]
     },
     "execution_count": 29,
     "metadata": {},
     "output_type": "execute_result"
    }
   ],
   "source": [
    "x2[:,:]"
   ]
  },
  {
   "cell_type": "code",
   "execution_count": 30,
   "id": "d483e7c1",
   "metadata": {},
   "outputs": [
    {
     "data": {
      "text/plain": [
       "array([[4, 5],\n",
       "       [8, 6],\n",
       "       [7, 6]])"
      ]
     },
     "execution_count": 30,
     "metadata": {},
     "output_type": "execute_result"
    }
   ],
   "source": [
    "# row 全選，column 從頭開始跳-2步\n",
    "x2[:, ::-2]"
   ]
  },
  {
   "cell_type": "code",
   "execution_count": 41,
   "id": "66352277",
   "metadata": {},
   "outputs": [
    {
     "data": {
      "text/plain": [
       "array([[7, 7, 6, 1],\n",
       "       [8, 8, 6, 7],\n",
       "       [4, 2, 5, 3]])"
      ]
     },
     "execution_count": 41,
     "metadata": {},
     "output_type": "execute_result"
    }
   ],
   "source": [
    "# reversing array\n",
    "x2[::-1, ::-1]"
   ]
  },
  {
   "cell_type": "code",
   "execution_count": 36,
   "id": "4871771b",
   "metadata": {},
   "outputs": [],
   "source": [
    "# the size od reshape should match the numbers  of elements in the array\n",
    "grid = np.arange(1, 10).reshape(3, 3)"
   ]
  },
  {
   "cell_type": "code",
   "execution_count": 37,
   "id": "ff022c7c",
   "metadata": {},
   "outputs": [
    {
     "data": {
      "text/plain": [
       "array([[1, 2, 3],\n",
       "       [4, 5, 6],\n",
       "       [7, 8, 9]])"
      ]
     },
     "execution_count": 37,
     "metadata": {},
     "output_type": "execute_result"
    }
   ],
   "source": [
    "grid"
   ]
  },
  {
   "cell_type": "code",
   "execution_count": 47,
   "id": "3d18c74e",
   "metadata": {},
   "outputs": [
    {
     "data": {
      "text/plain": [
       "(array([1, 2, 3]), 1)"
      ]
     },
     "execution_count": 47,
     "metadata": {},
     "output_type": "execute_result"
    }
   ],
   "source": [
    "x = np.array([1,2,3])\n",
    "x, x.ndim"
   ]
  },
  {
   "cell_type": "code",
   "execution_count": 49,
   "id": "e59feb71",
   "metadata": {},
   "outputs": [
    {
     "name": "stdout",
     "output_type": "stream",
     "text": [
      "[[1]\n",
      " [2]\n",
      " [3]]\n",
      "1\n",
      "(3,)\n"
     ]
    }
   ],
   "source": [
    "print(x.reshape(3, 1))\n",
    "print(x.ndim)\n",
    "print(x.shape)"
   ]
  },
  {
   "cell_type": "code",
   "execution_count": 51,
   "id": "d694739b",
   "metadata": {},
   "outputs": [
    {
     "data": {
      "text/plain": [
       "array([1, 2, 3, 4, 5, 6, 7, 8, 9])"
      ]
     },
     "execution_count": 51,
     "metadata": {},
     "output_type": "execute_result"
    }
   ],
   "source": [
    "x = np.array([1, 2, 3])\n",
    "y = np.array([4, 5, 6])\n",
    "z = np.array([7, 8, 9])\n",
    "np.concatenate([x, y, z])"
   ]
  },
  {
   "cell_type": "code",
   "execution_count": 53,
   "id": "c937677d",
   "metadata": {},
   "outputs": [
    {
     "data": {
      "text/plain": [
       "array([[1, 2, 3],\n",
       "       [4, 5, 6],\n",
       "       [7, 8, 9],\n",
       "       [1, 2, 3],\n",
       "       [4, 5, 6],\n",
       "       [7, 8, 9]])"
      ]
     },
     "execution_count": 53,
     "metadata": {},
     "output_type": "execute_result"
    }
   ],
   "source": [
    "np.concatenate([grid, grid]) # by default axis = 0/rows"
   ]
  },
  {
   "cell_type": "code",
   "execution_count": 54,
   "id": "6e7095b0",
   "metadata": {},
   "outputs": [
    {
     "data": {
      "text/plain": [
       "array([[1, 2, 3, 1, 2, 3],\n",
       "       [4, 5, 6, 4, 5, 6],\n",
       "       [7, 8, 9, 7, 8, 9]])"
      ]
     },
     "execution_count": 54,
     "metadata": {},
     "output_type": "execute_result"
    }
   ],
   "source": [
    "np.concatenate([grid, grid], axis = 1)"
   ]
  },
  {
   "cell_type": "code",
   "execution_count": 57,
   "id": "3e2596ee",
   "metadata": {},
   "outputs": [
    {
     "data": {
      "text/plain": [
       "array([[1, 2, 3],\n",
       "       [1, 2, 3],\n",
       "       [4, 5, 6],\n",
       "       [7, 8, 9]])"
      ]
     },
     "execution_count": 57,
     "metadata": {},
     "output_type": "execute_result"
    }
   ],
   "source": [
    "np.vstack([x, grid]) # stack vertically"
   ]
  },
  {
   "cell_type": "code",
   "execution_count": 67,
   "id": "7690e697",
   "metadata": {},
   "outputs": [
    {
     "data": {
      "text/plain": [
       "array([[99,  1,  2,  3],\n",
       "       [98,  4,  5,  6],\n",
       "       [97,  7,  8,  9]])"
      ]
     },
     "execution_count": 67,
     "metadata": {},
     "output_type": "execute_result"
    }
   ],
   "source": [
    "z = np.array([[99], [98], [97]]) # an 3x1 array\n",
    "np.hstack([z, grid]) # stack horizontally"
   ]
  },
  {
   "cell_type": "markdown",
   "id": "e96811a5",
   "metadata": {},
   "source": [
    "# splitting the arrays"
   ]
  },
  {
   "cell_type": "code",
   "execution_count": 40,
   "id": "712a3caa",
   "metadata": {},
   "outputs": [],
   "source": [
    "x = np.array([11, 22, 33, 44, 55, 66, 77, 88])"
   ]
  },
  {
   "cell_type": "code",
   "execution_count": 41,
   "id": "5ade2998",
   "metadata": {},
   "outputs": [
    {
     "data": {
      "text/plain": [
       "[array([11, 22, 33]), array([44, 55]), array([66, 77, 88])]"
      ]
     },
     "execution_count": 41,
     "metadata": {},
     "output_type": "execute_result"
    }
   ],
   "source": [
    "# start splitting at index 3 and 5\n",
    "# split should be used with array, not list and other datatypes\n",
    "\n",
    "np.split(x, [3, 5]) # (0, 1, 2)(3, 4)(5, 6, 7)"
   ]
  },
  {
   "cell_type": "code",
   "execution_count": 42,
   "id": "2a8f42b4",
   "metadata": {},
   "outputs": [
    {
     "name": "stdout",
     "output_type": "stream",
     "text": [
      "[[1 2 3]] \n",
      "\n",
      "[[4 5 6]\n",
      " [7 8 9]]\n"
     ]
    }
   ],
   "source": [
    "upper, lower = np.vsplit(grid, [1]) # split vertically (0)(1, 2)\n",
    "print(upper, '\\n')\n",
    "print(lower)"
   ]
  },
  {
   "cell_type": "code",
   "execution_count": 43,
   "id": "8279c864",
   "metadata": {},
   "outputs": [
    {
     "name": "stdout",
     "output_type": "stream",
     "text": [
      "[[1 2]\n",
      " [4 5]\n",
      " [7 8]] \n",
      "\n",
      "[[3]\n",
      " [6]\n",
      " [9]]\n"
     ]
    }
   ],
   "source": [
    "left, right = np.hsplit(grid, [2]) # splt horizontally (0, 1)(2)\n",
    "print(left, '\\n')\n",
    "print(right)"
   ]
  },
  {
   "cell_type": "code",
   "execution_count": null,
   "id": "87c23bba",
   "metadata": {},
   "outputs": [],
   "source": []
  }
 ],
 "metadata": {
  "kernelspec": {
   "display_name": "Python 3",
   "language": "python",
   "name": "python3"
  },
  "language_info": {
   "codemirror_mode": {
    "name": "ipython",
    "version": 3
   },
   "file_extension": ".py",
   "mimetype": "text/x-python",
   "name": "python",
   "nbconvert_exporter": "python",
   "pygments_lexer": "ipython3",
   "version": "3.9.12"
  }
 },
 "nbformat": 4,
 "nbformat_minor": 5
}
