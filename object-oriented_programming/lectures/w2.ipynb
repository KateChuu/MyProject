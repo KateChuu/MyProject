{
 "cells": [
  {
   "cell_type": "markdown",
   "id": "9e8e26de",
   "metadata": {},
   "source": [
    "# Computation on numpy arrays: universal functions"
   ]
  },
  {
   "cell_type": "code",
   "execution_count": 1,
   "id": "4d8d98fe",
   "metadata": {},
   "outputs": [],
   "source": [
    "import numpy as np"
   ]
  },
  {
   "cell_type": "code",
   "execution_count": 3,
   "id": "87aa399e",
   "metadata": {},
   "outputs": [
    {
     "data": {
      "text/plain": [
       "array([0, 1, 2, 3])"
      ]
     },
     "execution_count": 3,
     "metadata": {},
     "output_type": "execute_result"
    }
   ],
   "source": [
    "x = np.arange(4)\n",
    "x"
   ]
  },
  {
   "cell_type": "code",
   "execution_count": 7,
   "id": "7f7cd761",
   "metadata": {},
   "outputs": [
    {
     "name": "stdout",
     "output_type": "stream",
     "text": [
      "[5 6 7 8]\n",
      "[-5 -4 -3 -2]\n",
      "[ 0  5 10 15]\n",
      "[0.  0.2 0.4 0.6]\n"
     ]
    }
   ],
   "source": [
    "print(x + 5)\n",
    "print(x - 5)\n",
    "print(x * 5)\n",
    "print(x / 5)"
   ]
  },
  {
   "cell_type": "code",
   "execution_count": 9,
   "id": "b0da35ad",
   "metadata": {},
   "outputs": [
    {
     "name": "stdout",
     "output_type": "stream",
     "text": [
      "[0 1 4 9]\n",
      "[0 1 0 1]\n"
     ]
    }
   ],
   "source": [
    "print(x**2)\n",
    "print(x%2) # mod"
   ]
  },
  {
   "cell_type": "code",
   "execution_count": 10,
   "id": "fbeb4c3c",
   "metadata": {},
   "outputs": [
    {
     "data": {
      "text/plain": [
       "array([2, 3, 4, 5])"
      ]
     },
     "execution_count": 10,
     "metadata": {},
     "output_type": "execute_result"
    }
   ],
   "source": [
    "np.add(x, 2)"
   ]
  },
  {
   "cell_type": "code",
   "execution_count": 12,
   "id": "43b9d66c",
   "metadata": {},
   "outputs": [
    {
     "data": {
      "text/plain": [
       "array([-2, -1,  0,  1])"
      ]
     },
     "execution_count": 12,
     "metadata": {},
     "output_type": "execute_result"
    }
   ],
   "source": [
    "np.subtract(x, 2)"
   ]
  },
  {
   "cell_type": "code",
   "execution_count": 13,
   "id": "eb8d23dd",
   "metadata": {},
   "outputs": [
    {
     "data": {
      "text/plain": [
       "array([ 0, -1, -2, -3])"
      ]
     },
     "execution_count": 13,
     "metadata": {},
     "output_type": "execute_result"
    }
   ],
   "source": [
    "np.negative(x)"
   ]
  },
  {
   "cell_type": "code",
   "execution_count": 14,
   "id": "2c7d8575",
   "metadata": {},
   "outputs": [
    {
     "data": {
      "text/plain": [
       "array([0, 3, 6, 9])"
      ]
     },
     "execution_count": 14,
     "metadata": {},
     "output_type": "execute_result"
    }
   ],
   "source": [
    "np.multiply(x, 3)"
   ]
  },
  {
   "cell_type": "code",
   "execution_count": 16,
   "id": "c3fc96f1",
   "metadata": {},
   "outputs": [
    {
     "data": {
      "text/plain": [
       "array([0., 2., 4., 6.])"
      ]
     },
     "execution_count": 16,
     "metadata": {},
     "output_type": "execute_result"
    }
   ],
   "source": [
    "np.divide(x, 0.5)"
   ]
  },
  {
   "cell_type": "code",
   "execution_count": 17,
   "id": "0cf1d310",
   "metadata": {},
   "outputs": [
    {
     "data": {
      "text/plain": [
       "array([0, 0, 1, 1], dtype=int32)"
      ]
     },
     "execution_count": 17,
     "metadata": {},
     "output_type": "execute_result"
    }
   ],
   "source": [
    "np.floor_divide(x, 2)\n",
    "\n",
    "# 0/2=0   -> 0\n",
    "# 1/2=0.5 -> 0\n",
    "# 2/2=1   -> 1\n",
    "# 3/2=1.5 -> 1"
   ]
  },
  {
   "cell_type": "code",
   "execution_count": 18,
   "id": "ce508a8a",
   "metadata": {},
   "outputs": [
    {
     "data": {
      "text/plain": [
       "array([0, 1, 0, 1], dtype=int32)"
      ]
     },
     "execution_count": 18,
     "metadata": {},
     "output_type": "execute_result"
    }
   ],
   "source": [
    "np.mod(x, 2)"
   ]
  },
  {
   "cell_type": "code",
   "execution_count": 19,
   "id": "ecb49502",
   "metadata": {},
   "outputs": [
    {
     "data": {
      "text/plain": [
       "array([2, 1, 0, 1, 2])"
      ]
     },
     "execution_count": 19,
     "metadata": {},
     "output_type": "execute_result"
    }
   ],
   "source": [
    "x = np.array([2, -1, 0, 1, 2])\n",
    "abs(x)"
   ]
  },
  {
   "cell_type": "code",
   "execution_count": 21,
   "id": "8c94b768",
   "metadata": {},
   "outputs": [
    {
     "name": "stdout",
     "output_type": "stream",
     "text": [
      "[2 1 0 1 2]\n",
      "[2 1 0 1 2]\n"
     ]
    }
   ],
   "source": [
    "# they are the same\n",
    "print(np.abs(x))\n",
    "print(np.absolute(x))"
   ]
  },
  {
   "cell_type": "markdown",
   "id": "ee8ebbde",
   "metadata": {},
   "source": [
    "# Aggregations: min, max and other"
   ]
  },
  {
   "cell_type": "code",
   "execution_count": 6,
   "id": "4fe2980b",
   "metadata": {},
   "outputs": [
    {
     "data": {
      "text/plain": [
       "numpy.ndarray"
      ]
     },
     "execution_count": 6,
     "metadata": {},
     "output_type": "execute_result"
    }
   ],
   "source": [
    "# produce an array of 100 random numbers between 0 and 1\n",
    "L = np.random.random(100)\n",
    "type(L)"
   ]
  },
  {
   "cell_type": "code",
   "execution_count": 8,
   "id": "29358f4b",
   "metadata": {},
   "outputs": [
    {
     "data": {
      "text/plain": [
       "52.463544585484016"
      ]
     },
     "execution_count": 8,
     "metadata": {},
     "output_type": "execute_result"
    }
   ],
   "source": [
    "sum(L)"
   ]
  },
  {
   "cell_type": "code",
   "execution_count": 7,
   "id": "627b03dc",
   "metadata": {},
   "outputs": [
    {
     "data": {
      "text/plain": [
       "52.46354458548402"
      ]
     },
     "execution_count": 7,
     "metadata": {},
     "output_type": "execute_result"
    }
   ],
   "source": [
    "np.sum(L)"
   ]
  },
  {
   "cell_type": "code",
   "execution_count": 24,
   "id": "59b0479f",
   "metadata": {},
   "outputs": [
    {
     "name": "stdout",
     "output_type": "stream",
     "text": [
      "15.5 µs ± 599 ns per loop (mean ± std. dev. of 7 runs, 100,000 loops each)\n",
      "5.94 µs ± 292 ns per loop (mean ± std. dev. of 7 runs, 100,000 loops each)\n"
     ]
    }
   ],
   "source": [
    "%timeit sum(L)\n",
    "%timeit np.sum(L) # numpy is faster"
   ]
  },
  {
   "cell_type": "code",
   "execution_count": 12,
   "id": "852d4f69",
   "metadata": {},
   "outputs": [],
   "source": [
    "big_array = np.random.random(1000000)"
   ]
  },
  {
   "cell_type": "code",
   "execution_count": 27,
   "id": "8ed39cad",
   "metadata": {},
   "outputs": [
    {
     "name": "stdout",
     "output_type": "stream",
     "text": [
      "122 ms ± 11.3 ms per loop (mean ± std. dev. of 7 runs, 10 loops each)\n",
      "1.35 ms ± 25.1 µs per loop (mean ± std. dev. of 7 runs, 1,000 loops each)\n"
     ]
    }
   ],
   "source": [
    "# now the time difference is quite obvious\n",
    "%timeit sum(big_array)\n",
    "%timeit np.sum(big_array)"
   ]
  },
  {
   "cell_type": "code",
   "execution_count": 9,
   "id": "863c3354",
   "metadata": {},
   "outputs": [
    {
     "name": "stdout",
     "output_type": "stream",
     "text": [
      "0.005359131605988332\n",
      "0.996201701919808\n"
     ]
    }
   ],
   "source": [
    "# python in-built min and max\n",
    "\n",
    "print(min(L))\n",
    "print(max(L))"
   ]
  },
  {
   "cell_type": "code",
   "execution_count": 10,
   "id": "e0c15831",
   "metadata": {},
   "outputs": [
    {
     "name": "stdout",
     "output_type": "stream",
     "text": [
      "0.005359131605988332\n",
      "0.996201701919808\n"
     ]
    }
   ],
   "source": [
    "# numpy in-built min and max\n",
    "\n",
    "print(np.min(L))\n",
    "print(np.max(L))"
   ]
  },
  {
   "cell_type": "code",
   "execution_count": 13,
   "id": "7737c494",
   "metadata": {},
   "outputs": [
    {
     "name": "stdout",
     "output_type": "stream",
     "text": [
      "1.4254474171027098e-06 0.9999970770903721 499556.37221217394\n"
     ]
    }
   ],
   "source": [
    "print(big_array.min(), big_array.max(), big_array.sum())"
   ]
  },
  {
   "cell_type": "markdown",
   "id": "7ac1ca34",
   "metadata": {},
   "source": [
    "# Multi-dimensional aggregate\n",
    "aggregation against rows and columns"
   ]
  },
  {
   "cell_type": "code",
   "execution_count": 5,
   "id": "f22944a7",
   "metadata": {},
   "outputs": [
    {
     "data": {
      "text/plain": [
       "array([[0.04956284, 0.55509981, 0.47327781, 0.42612472],\n",
       "       [0.59458573, 0.05878395, 0.08771825, 0.09188336],\n",
       "       [0.6547474 , 0.84888779, 0.53722206, 0.38123456]])"
      ]
     },
     "execution_count": 5,
     "metadata": {},
     "output_type": "execute_result"
    }
   ],
   "source": [
    "m = np.random.random((3, 4))\n",
    "m"
   ]
  },
  {
   "cell_type": "code",
   "execution_count": 8,
   "id": "d8234fda",
   "metadata": {},
   "outputs": [
    {
     "data": {
      "text/plain": [
       "array([1.29889597, 1.46277155, 1.09821812, 0.89924264])"
      ]
     },
     "execution_count": 8,
     "metadata": {},
     "output_type": "execute_result"
    }
   ],
   "source": [
    "sum(m) # sum of each columns"
   ]
  },
  {
   "cell_type": "code",
   "execution_count": 9,
   "id": "aaa88e6f",
   "metadata": {},
   "outputs": [
    {
     "data": {
      "text/plain": [
       "4.759128280672045"
      ]
     },
     "execution_count": 9,
     "metadata": {},
     "output_type": "execute_result"
    }
   ],
   "source": [
    "m.sum() # sum of all the values in the array, default"
   ]
  },
  {
   "cell_type": "code",
   "execution_count": 10,
   "id": "3b7023c6",
   "metadata": {},
   "outputs": [
    {
     "data": {
      "text/plain": [
       "array([0.04956284, 0.05878395, 0.08771825, 0.09188336])"
      ]
     },
     "execution_count": 10,
     "metadata": {},
     "output_type": "execute_result"
    }
   ],
   "source": [
    "m.min(axis=0) # the smallest number of each columns"
   ]
  },
  {
   "cell_type": "code",
   "execution_count": 11,
   "id": "9d4e4112",
   "metadata": {},
   "outputs": [
    {
     "data": {
      "text/plain": [
       "array([0.55509981, 0.59458573, 0.84888779])"
      ]
     },
     "execution_count": 11,
     "metadata": {},
     "output_type": "execute_result"
    }
   ],
   "source": [
    "m.max(axis=1) # the biggest number of each rows"
   ]
  },
  {
   "cell_type": "markdown",
   "id": "14ec886d",
   "metadata": {},
   "source": [
    "# Broadcasting"
   ]
  },
  {
   "cell_type": "code",
   "execution_count": 15,
   "id": "15731ca3",
   "metadata": {},
   "outputs": [
    {
     "name": "stdout",
     "output_type": "stream",
     "text": [
      "[5 7 9]\n",
      "[4 5 6]\n"
     ]
    }
   ],
   "source": [
    "a = np.array([1, 2, 3])\n",
    "b = np.array([4, 5, 6])\n",
    "\n",
    "print(a + b)\n",
    "print(a + 3)"
   ]
  },
  {
   "cell_type": "code",
   "execution_count": 16,
   "id": "33eefe98",
   "metadata": {},
   "outputs": [
    {
     "name": "stdout",
     "output_type": "stream",
     "text": [
      "(3, 3)\n",
      "(3,)\n"
     ]
    }
   ],
   "source": [
    "m = np.ones((3, 3))\n",
    "print(m.shape)\n",
    "print(a.shape)"
   ]
  },
  {
   "cell_type": "code",
   "execution_count": 17,
   "id": "5998c859",
   "metadata": {},
   "outputs": [
    {
     "data": {
      "text/plain": [
       "array([[2., 3., 4.],\n",
       "       [2., 3., 4.],\n",
       "       [2., 3., 4.]])"
      ]
     },
     "execution_count": 17,
     "metadata": {},
     "output_type": "execute_result"
    }
   ],
   "source": [
    "m + a\n",
    "\n",
    "#[[1., 1., 1.]    [[1, 2, 3]\n",
    "# [1., 1., 1.]  +  [1, 2, 3]\n",
    "# [1., 1., 1.]]    [1, 2, 3]]"
   ]
  },
  {
   "cell_type": "code",
   "execution_count": 23,
   "id": "cea9ac38",
   "metadata": {},
   "outputs": [],
   "source": [
    "a = np.arange(3)\n",
    "b = np.arange(3)[:, np.newaxis] # convert it to a 3x1 matrix\n",
    "c = np.arange(3).reshape(3, 1) # same as b"
   ]
  },
  {
   "cell_type": "code",
   "execution_count": 27,
   "id": "d3987f8e",
   "metadata": {},
   "outputs": [
    {
     "name": "stdout",
     "output_type": "stream",
     "text": [
      "[0 1 2] \n",
      "\n",
      "[[0]\n",
      " [1]\n",
      " [2]] \n",
      "\n",
      "[[0]\n",
      " [1]\n",
      " [2]] \n",
      "\n",
      "(3,)\n",
      "(3, 1)\n",
      "(3, 1)\n"
     ]
    }
   ],
   "source": [
    "print(a, '\\n')\n",
    "print(b, '\\n')\n",
    "print(c, '\\n')\n",
    "print(a.shape)\n",
    "print(b.shape)\n",
    "print(c.shape)"
   ]
  },
  {
   "cell_type": "code",
   "execution_count": 50,
   "id": "35c35539",
   "metadata": {},
   "outputs": [
    {
     "data": {
      "text/plain": [
       "array([[0, 1, 2],\n",
       "       [1, 2, 3],\n",
       "       [2, 3, 4]])"
      ]
     },
     "execution_count": 50,
     "metadata": {},
     "output_type": "execute_result"
    }
   ],
   "source": [
    "a + b\n",
    "\n",
    "# how does it add up?\n",
    "# a -> [0, 1, 2]  duplicate the row\n",
    "#      [0, 1, 2]\n",
    "#      [0, 1, 2]\n",
    "#\n",
    "# b -> [0,[0,[0, duplicate the column\n",
    "#       1, 1, 1,\n",
    "#       2] 2] 2]\n",
    "# then we can combine the same size arrays."
   ]
  },
  {
   "cell_type": "code",
   "execution_count": 58,
   "id": "9160a58b",
   "metadata": {},
   "outputs": [
    {
     "name": "stdout",
     "output_type": "stream",
     "text": [
      "[[1. 1.]\n",
      " [1. 1.]\n",
      " [1. 1.]] [0 1 2] \n",
      "\n",
      "(3, 2)\n",
      "(3,)\n"
     ]
    }
   ],
   "source": [
    "m = np.ones((3, 2))\n",
    "a = np.arange(3)\n",
    "print(m, a, '\\n')\n",
    "print(m.shape)\n",
    "print(a.shape)"
   ]
  },
  {
   "cell_type": "code",
   "execution_count": 56,
   "id": "07432c04",
   "metadata": {},
   "outputs": [
    {
     "ename": "ValueError",
     "evalue": "operands could not be broadcast together with shapes (3,2) (3,) ",
     "output_type": "error",
     "traceback": [
      "\u001b[1;31m---------------------------------------------------------------------------\u001b[0m",
      "\u001b[1;31mValueError\u001b[0m                                Traceback (most recent call last)",
      "Input \u001b[1;32mIn [56]\u001b[0m, in \u001b[0;36m<cell line: 1>\u001b[1;34m()\u001b[0m\n\u001b[1;32m----> 1\u001b[0m \u001b[43mm\u001b[49m\u001b[43m \u001b[49m\u001b[38;5;241;43m+\u001b[39;49m\u001b[43m \u001b[49m\u001b[43ma\u001b[49m\n",
      "\u001b[1;31mValueError\u001b[0m: operands could not be broadcast together with shapes (3,2) (3,) "
     ]
    }
   ],
   "source": [
    "m + a"
   ]
  },
  {
   "cell_type": "code",
   "execution_count": 61,
   "id": "1332eb50",
   "metadata": {},
   "outputs": [
    {
     "name": "stdout",
     "output_type": "stream",
     "text": [
      "[[0]\n",
      " [1]\n",
      " [2]]\n"
     ]
    },
    {
     "data": {
      "text/plain": [
       "(3, 1)"
      ]
     },
     "execution_count": 61,
     "metadata": {},
     "output_type": "execute_result"
    }
   ],
   "source": [
    "print(a[:, np.newaxis])\n",
    "a[:, np.newaxis].shape"
   ]
  },
  {
   "cell_type": "code",
   "execution_count": 60,
   "id": "1139567b",
   "metadata": {},
   "outputs": [
    {
     "data": {
      "text/plain": [
       "array([[1., 1.],\n",
       "       [2., 2.],\n",
       "       [3., 3.]])"
      ]
     },
     "execution_count": 60,
     "metadata": {},
     "output_type": "execute_result"
    }
   ],
   "source": [
    "m + a[:, np.newaxis]"
   ]
  },
  {
   "cell_type": "markdown",
   "id": "877d419f",
   "metadata": {},
   "source": [
    "# Comparisions, masks and boolean logic"
   ]
  },
  {
   "cell_type": "code",
   "execution_count": 62,
   "id": "d8747864",
   "metadata": {},
   "outputs": [
    {
     "data": {
      "text/plain": [
       "array([1, 2, 3, 4, 5])"
      ]
     },
     "execution_count": 62,
     "metadata": {},
     "output_type": "execute_result"
    }
   ],
   "source": [
    "x = np.array([1, 2, 3, 4, 5])\n",
    "x"
   ]
  },
  {
   "cell_type": "code",
   "execution_count": 66,
   "id": "bf509f32",
   "metadata": {},
   "outputs": [
    {
     "name": "stdout",
     "output_type": "stream",
     "text": [
      "[ True  True False False False]\n",
      "[ True  True False False False]\n"
     ]
    }
   ],
   "source": [
    "# they are the same thing\n",
    "print(x < 3)\n",
    "print(np.less(x, 3))"
   ]
  },
  {
   "cell_type": "code",
   "execution_count": 68,
   "id": "5f912c69",
   "metadata": {},
   "outputs": [
    {
     "name": "stdout",
     "output_type": "stream",
     "text": [
      "[False False  True  True  True]\n",
      "[False False  True  True  True]\n"
     ]
    }
   ],
   "source": [
    "print(x >= 3)\n",
    "print(np.greater_equal(x, 3))"
   ]
  },
  {
   "cell_type": "code",
   "execution_count": 28,
   "id": "40d31cce",
   "metadata": {},
   "outputs": [
    {
     "data": {
      "text/plain": [
       "array([[5, 0, 3, 3],\n",
       "       [7, 9, 3, 5],\n",
       "       [2, 4, 7, 6]])"
      ]
     },
     "execution_count": 28,
     "metadata": {},
     "output_type": "execute_result"
    }
   ],
   "source": [
    "# two dimentional array\n",
    "\n",
    "rng = np.random.RandomState(0) # a fixed seed? \n",
    "x = rng.randint(10, size=(3, 4)) # It is originally random.randint, we change it to our seed\n",
    "x"
   ]
  },
  {
   "cell_type": "code",
   "execution_count": 76,
   "id": "c6760857",
   "metadata": {},
   "outputs": [
    {
     "data": {
      "text/plain": [
       "array([[ True,  True,  True,  True],\n",
       "       [False, False,  True,  True],\n",
       "       [ True,  True, False, False]])"
      ]
     },
     "execution_count": 76,
     "metadata": {},
     "output_type": "execute_result"
    }
   ],
   "source": [
    "x < 6"
   ]
  },
  {
   "cell_type": "code",
   "execution_count": 77,
   "id": "a84c7fcf",
   "metadata": {},
   "outputs": [
    {
     "name": "stdout",
     "output_type": "stream",
     "text": [
      "8\n",
      "8\n"
     ]
    }
   ],
   "source": [
    "# they are same\n",
    "print(np.count_nonzero(x<6)) # nonzero == True\n",
    "print(np.sum(x<6)) # True == 1"
   ]
  },
  {
   "cell_type": "code",
   "execution_count": 78,
   "id": "e7d56315",
   "metadata": {},
   "outputs": [
    {
     "name": "stdout",
     "output_type": "stream",
     "text": [
      "[4 2 2]\n",
      "[2 2 2 2]\n"
     ]
    }
   ],
   "source": [
    "print(np.sum(x<6, axis=1)) # values that are less than 6 in each row \n",
    "print(np.sum(x<6, axis=0)) # values that are less than 6 in each column"
   ]
  },
  {
   "cell_type": "code",
   "execution_count": 33,
   "id": "cd868d05",
   "metadata": {},
   "outputs": [
    {
     "name": "stdout",
     "output_type": "stream",
     "text": [
      "True\n",
      "False\n"
     ]
    }
   ],
   "source": [
    "print(np.any(x>8)) # if there is one element greater than 8 in the array, it returns true\n",
    "print(np.any(x<0))"
   ]
  },
  {
   "cell_type": "code",
   "execution_count": 32,
   "id": "aabe3cb9",
   "metadata": {},
   "outputs": [
    {
     "name": "stdout",
     "output_type": "stream",
     "text": [
      "[False  True False False]\n"
     ]
    }
   ],
   "source": [
    "print(np.any(x>8, axis=0)) #  if there is a element greater than 8 in each column"
   ]
  },
  {
   "cell_type": "code",
   "execution_count": 83,
   "id": "e4c9a580",
   "metadata": {},
   "outputs": [
    {
     "data": {
      "text/plain": [
       "array([ True, False,  True])"
      ]
     },
     "execution_count": 83,
     "metadata": {},
     "output_type": "execute_result"
    }
   ],
   "source": [
    "np.all(x<8, axis=1) # rowwise == 每個 column 都要取到"
   ]
  },
  {
   "cell_type": "code",
   "execution_count": 84,
   "id": "755cf651",
   "metadata": {},
   "outputs": [
    {
     "data": {
      "text/plain": [
       "array([ True, False,  True,  True])"
      ]
     },
     "execution_count": 84,
     "metadata": {},
     "output_type": "execute_result"
    }
   ],
   "source": [
    "np.all(x<8, axis=0) # columnwise == 每個 row 都要取到"
   ]
  },
  {
   "cell_type": "markdown",
   "id": "cd9ba766",
   "metadata": {},
   "source": [
    "# Example: Seattle rainfall"
   ]
  },
  {
   "cell_type": "code",
   "execution_count": 35,
   "id": "bfce8511",
   "metadata": {},
   "outputs": [],
   "source": [
    "import pandas as pd"
   ]
  },
  {
   "cell_type": "code",
   "execution_count": 36,
   "id": "fecbd1cb",
   "metadata": {},
   "outputs": [
    {
     "data": {
      "text/html": [
       "<div>\n",
       "<style scoped>\n",
       "    .dataframe tbody tr th:only-of-type {\n",
       "        vertical-align: middle;\n",
       "    }\n",
       "\n",
       "    .dataframe tbody tr th {\n",
       "        vertical-align: top;\n",
       "    }\n",
       "\n",
       "    .dataframe thead th {\n",
       "        text-align: right;\n",
       "    }\n",
       "</style>\n",
       "<table border=\"1\" class=\"dataframe\">\n",
       "  <thead>\n",
       "    <tr style=\"text-align: right;\">\n",
       "      <th></th>\n",
       "      <th>date</th>\n",
       "      <th>precipitation</th>\n",
       "      <th>temp_max</th>\n",
       "      <th>temp_min</th>\n",
       "      <th>wind</th>\n",
       "      <th>weather</th>\n",
       "    </tr>\n",
       "  </thead>\n",
       "  <tbody>\n",
       "    <tr>\n",
       "      <th>0</th>\n",
       "      <td>2012/1/1</td>\n",
       "      <td>0.0</td>\n",
       "      <td>12.8</td>\n",
       "      <td>5.0</td>\n",
       "      <td>4.7</td>\n",
       "      <td>drizzle</td>\n",
       "    </tr>\n",
       "    <tr>\n",
       "      <th>1</th>\n",
       "      <td>2012/1/2</td>\n",
       "      <td>10.9</td>\n",
       "      <td>10.6</td>\n",
       "      <td>2.8</td>\n",
       "      <td>4.5</td>\n",
       "      <td>rain</td>\n",
       "    </tr>\n",
       "    <tr>\n",
       "      <th>2</th>\n",
       "      <td>2012/1/3</td>\n",
       "      <td>0.8</td>\n",
       "      <td>11.7</td>\n",
       "      <td>7.2</td>\n",
       "      <td>2.3</td>\n",
       "      <td>rain</td>\n",
       "    </tr>\n",
       "    <tr>\n",
       "      <th>3</th>\n",
       "      <td>2012/1/4</td>\n",
       "      <td>20.3</td>\n",
       "      <td>12.2</td>\n",
       "      <td>5.6</td>\n",
       "      <td>4.7</td>\n",
       "      <td>rain</td>\n",
       "    </tr>\n",
       "    <tr>\n",
       "      <th>4</th>\n",
       "      <td>2012/1/5</td>\n",
       "      <td>1.3</td>\n",
       "      <td>8.9</td>\n",
       "      <td>2.8</td>\n",
       "      <td>6.1</td>\n",
       "      <td>rain</td>\n",
       "    </tr>\n",
       "    <tr>\n",
       "      <th>...</th>\n",
       "      <td>...</td>\n",
       "      <td>...</td>\n",
       "      <td>...</td>\n",
       "      <td>...</td>\n",
       "      <td>...</td>\n",
       "      <td>...</td>\n",
       "    </tr>\n",
       "    <tr>\n",
       "      <th>1456</th>\n",
       "      <td>2015/12/27</td>\n",
       "      <td>8.6</td>\n",
       "      <td>4.4</td>\n",
       "      <td>1.7</td>\n",
       "      <td>2.9</td>\n",
       "      <td>fog</td>\n",
       "    </tr>\n",
       "    <tr>\n",
       "      <th>1457</th>\n",
       "      <td>2015/12/28</td>\n",
       "      <td>1.5</td>\n",
       "      <td>5.0</td>\n",
       "      <td>1.7</td>\n",
       "      <td>1.3</td>\n",
       "      <td>fog</td>\n",
       "    </tr>\n",
       "    <tr>\n",
       "      <th>1458</th>\n",
       "      <td>2015/12/29</td>\n",
       "      <td>0.0</td>\n",
       "      <td>7.2</td>\n",
       "      <td>0.6</td>\n",
       "      <td>2.6</td>\n",
       "      <td>fog</td>\n",
       "    </tr>\n",
       "    <tr>\n",
       "      <th>1459</th>\n",
       "      <td>2015/12/30</td>\n",
       "      <td>0.0</td>\n",
       "      <td>5.6</td>\n",
       "      <td>-1.0</td>\n",
       "      <td>3.4</td>\n",
       "      <td>sun</td>\n",
       "    </tr>\n",
       "    <tr>\n",
       "      <th>1460</th>\n",
       "      <td>2015/12/31</td>\n",
       "      <td>0.0</td>\n",
       "      <td>5.6</td>\n",
       "      <td>-2.1</td>\n",
       "      <td>3.5</td>\n",
       "      <td>sun</td>\n",
       "    </tr>\n",
       "  </tbody>\n",
       "</table>\n",
       "<p>1461 rows × 6 columns</p>\n",
       "</div>"
      ],
      "text/plain": [
       "            date  precipitation  temp_max  temp_min  wind  weather\n",
       "0       2012/1/1            0.0      12.8       5.0   4.7  drizzle\n",
       "1       2012/1/2           10.9      10.6       2.8   4.5     rain\n",
       "2       2012/1/3            0.8      11.7       7.2   2.3     rain\n",
       "3       2012/1/4           20.3      12.2       5.6   4.7     rain\n",
       "4       2012/1/5            1.3       8.9       2.8   6.1     rain\n",
       "...          ...            ...       ...       ...   ...      ...\n",
       "1456  2015/12/27            8.6       4.4       1.7   2.9      fog\n",
       "1457  2015/12/28            1.5       5.0       1.7   1.3      fog\n",
       "1458  2015/12/29            0.0       7.2       0.6   2.6      fog\n",
       "1459  2015/12/30            0.0       5.6      -1.0   3.4      sun\n",
       "1460  2015/12/31            0.0       5.6      -2.1   3.5      sun\n",
       "\n",
       "[1461 rows x 6 columns]"
      ]
     },
     "execution_count": 36,
     "metadata": {},
     "output_type": "execute_result"
    }
   ],
   "source": [
    "df = pd.read_csv(r\"../data/seattle-Weather.csv\", encoding='utf8', engine='python')\n",
    "df"
   ]
  },
  {
   "cell_type": "code",
   "execution_count": 91,
   "id": "b5eb9ffc",
   "metadata": {},
   "outputs": [
    {
     "data": {
      "text/plain": [
       "0        0.0\n",
       "1       10.9\n",
       "2        0.8\n",
       "3       20.3\n",
       "4        1.3\n",
       "        ... \n",
       "1456     8.6\n",
       "1457     1.5\n",
       "1458     0.0\n",
       "1459     0.0\n",
       "1460     0.0\n",
       "Name: precipitation, Length: 1461, dtype: float64"
      ]
     },
     "execution_count": 91,
     "metadata": {},
     "output_type": "execute_result"
    }
   ],
   "source": [
    "df['precipitation']"
   ]
  },
  {
   "cell_type": "code",
   "execution_count": 92,
   "id": "044d0b1f",
   "metadata": {},
   "outputs": [
    {
     "data": {
      "text/plain": [
       "838"
      ]
     },
     "execution_count": 92,
     "metadata": {},
     "output_type": "execute_result"
    }
   ],
   "source": [
    "# days without rain (precipitation = 0)\n",
    "np.sum(df['precipitation'] == 0)"
   ]
  },
  {
   "cell_type": "code",
   "execution_count": 93,
   "id": "67958a63",
   "metadata": {},
   "outputs": [
    {
     "data": {
      "text/plain": [
       "623"
      ]
     },
     "execution_count": 93,
     "metadata": {},
     "output_type": "execute_result"
    }
   ],
   "source": [
    "# days with rain\n",
    "np.sum(df['precipitation'] != 0)"
   ]
  },
  {
   "cell_type": "markdown",
   "id": "81f2e67e",
   "metadata": {},
   "source": [
    "# Boolean operator\n",
    "- & bitwise_and           \n",
    "- | bitwise_or           \n",
    "- ~ bitwise_not"
   ]
  },
  {
   "cell_type": "code",
   "execution_count": 95,
   "id": "bf1a7808",
   "metadata": {},
   "outputs": [
    {
     "data": {
      "text/plain": [
       "173"
      ]
     },
     "execution_count": 95,
     "metadata": {},
     "output_type": "execute_result"
    }
   ],
   "source": [
    "# all rainy days less than 15mm but greater than 5mm\n",
    "np.sum((df['precipitation'] < 15) & (df['precipitation'] > 5))"
   ]
  },
  {
   "cell_type": "code",
   "execution_count": 101,
   "id": "fb395fc4",
   "metadata": {},
   "outputs": [
    {
     "name": "stdout",
     "output_type": "stream",
     "text": [
      "[[5 0 3 3]\n",
      " [7 9 3 5]\n",
      " [2 4 7 6]] \n",
      "\n",
      "[[False  True  True  True]\n",
      " [False False  True False]\n",
      " [ True  True False False]] \n",
      "\n",
      "[0 3 3 3 2 4]\n"
     ]
    }
   ],
   "source": [
    "print(x, '\\n')\n",
    "print(x < 5, '\\n')\n",
    "print(x[x < 5]) # put the boolean mask on the data to filter the one we want"
   ]
  },
  {
   "cell_type": "code",
   "execution_count": 102,
   "id": "3aa92eb0",
   "metadata": {},
   "outputs": [
    {
     "data": {
      "text/plain": [
       "0       False\n",
       "1        True\n",
       "2        True\n",
       "3        True\n",
       "4        True\n",
       "        ...  \n",
       "1456     True\n",
       "1457     True\n",
       "1458    False\n",
       "1459    False\n",
       "1460    False\n",
       "Name: precipitation, Length: 1461, dtype: bool"
      ]
     },
     "execution_count": 102,
     "metadata": {},
     "output_type": "execute_result"
    }
   ],
   "source": [
    "rain = df['precipitation'] > 0 # a mask\n",
    "rain"
   ]
  },
  {
   "cell_type": "code",
   "execution_count": 103,
   "id": "9708614c",
   "metadata": {},
   "outputs": [
    {
     "data": {
      "text/plain": [
       "1       10.9\n",
       "2        0.8\n",
       "3       20.3\n",
       "4        1.3\n",
       "5        2.5\n",
       "        ... \n",
       "1452     6.1\n",
       "1453     2.5\n",
       "1454     5.8\n",
       "1456     8.6\n",
       "1457     1.5\n",
       "Name: precipitation, Length: 623, dtype: float64"
      ]
     },
     "execution_count": 103,
     "metadata": {},
     "output_type": "execute_result"
    }
   ],
   "source": [
    "# put the mask on the data\n",
    "df['precipitation'][rain]"
   ]
  },
  {
   "cell_type": "code",
   "execution_count": 41,
   "id": "4b245477",
   "metadata": {},
   "outputs": [
    {
     "data": {
      "text/html": [
       "<div>\n",
       "<style scoped>\n",
       "    .dataframe tbody tr th:only-of-type {\n",
       "        vertical-align: middle;\n",
       "    }\n",
       "\n",
       "    .dataframe tbody tr th {\n",
       "        vertical-align: top;\n",
       "    }\n",
       "\n",
       "    .dataframe thead th {\n",
       "        text-align: right;\n",
       "    }\n",
       "</style>\n",
       "<table border=\"1\" class=\"dataframe\">\n",
       "  <thead>\n",
       "    <tr style=\"text-align: right;\">\n",
       "      <th></th>\n",
       "      <th>date</th>\n",
       "      <th>precipitation</th>\n",
       "      <th>temp_max</th>\n",
       "      <th>temp_min</th>\n",
       "      <th>wind</th>\n",
       "      <th>weather</th>\n",
       "      <th>year</th>\n",
       "    </tr>\n",
       "  </thead>\n",
       "  <tbody>\n",
       "    <tr>\n",
       "      <th>0</th>\n",
       "      <td>2012/1/1</td>\n",
       "      <td>0.0</td>\n",
       "      <td>12.8</td>\n",
       "      <td>5.0</td>\n",
       "      <td>4.7</td>\n",
       "      <td>drizzle</td>\n",
       "      <td>2012</td>\n",
       "    </tr>\n",
       "    <tr>\n",
       "      <th>1</th>\n",
       "      <td>2012/1/2</td>\n",
       "      <td>10.9</td>\n",
       "      <td>10.6</td>\n",
       "      <td>2.8</td>\n",
       "      <td>4.5</td>\n",
       "      <td>rain</td>\n",
       "      <td>2012</td>\n",
       "    </tr>\n",
       "    <tr>\n",
       "      <th>2</th>\n",
       "      <td>2012/1/3</td>\n",
       "      <td>0.8</td>\n",
       "      <td>11.7</td>\n",
       "      <td>7.2</td>\n",
       "      <td>2.3</td>\n",
       "      <td>rain</td>\n",
       "      <td>2012</td>\n",
       "    </tr>\n",
       "    <tr>\n",
       "      <th>3</th>\n",
       "      <td>2012/1/4</td>\n",
       "      <td>20.3</td>\n",
       "      <td>12.2</td>\n",
       "      <td>5.6</td>\n",
       "      <td>4.7</td>\n",
       "      <td>rain</td>\n",
       "      <td>2012</td>\n",
       "    </tr>\n",
       "    <tr>\n",
       "      <th>4</th>\n",
       "      <td>2012/1/5</td>\n",
       "      <td>1.3</td>\n",
       "      <td>8.9</td>\n",
       "      <td>2.8</td>\n",
       "      <td>6.1</td>\n",
       "      <td>rain</td>\n",
       "      <td>2012</td>\n",
       "    </tr>\n",
       "    <tr>\n",
       "      <th>...</th>\n",
       "      <td>...</td>\n",
       "      <td>...</td>\n",
       "      <td>...</td>\n",
       "      <td>...</td>\n",
       "      <td>...</td>\n",
       "      <td>...</td>\n",
       "      <td>...</td>\n",
       "    </tr>\n",
       "    <tr>\n",
       "      <th>1456</th>\n",
       "      <td>2015/12/27</td>\n",
       "      <td>8.6</td>\n",
       "      <td>4.4</td>\n",
       "      <td>1.7</td>\n",
       "      <td>2.9</td>\n",
       "      <td>fog</td>\n",
       "      <td>2015</td>\n",
       "    </tr>\n",
       "    <tr>\n",
       "      <th>1457</th>\n",
       "      <td>2015/12/28</td>\n",
       "      <td>1.5</td>\n",
       "      <td>5.0</td>\n",
       "      <td>1.7</td>\n",
       "      <td>1.3</td>\n",
       "      <td>fog</td>\n",
       "      <td>2015</td>\n",
       "    </tr>\n",
       "    <tr>\n",
       "      <th>1458</th>\n",
       "      <td>2015/12/29</td>\n",
       "      <td>0.0</td>\n",
       "      <td>7.2</td>\n",
       "      <td>0.6</td>\n",
       "      <td>2.6</td>\n",
       "      <td>fog</td>\n",
       "      <td>2015</td>\n",
       "    </tr>\n",
       "    <tr>\n",
       "      <th>1459</th>\n",
       "      <td>2015/12/30</td>\n",
       "      <td>0.0</td>\n",
       "      <td>5.6</td>\n",
       "      <td>-1.0</td>\n",
       "      <td>3.4</td>\n",
       "      <td>sun</td>\n",
       "      <td>2015</td>\n",
       "    </tr>\n",
       "    <tr>\n",
       "      <th>1460</th>\n",
       "      <td>2015/12/31</td>\n",
       "      <td>0.0</td>\n",
       "      <td>5.6</td>\n",
       "      <td>-2.1</td>\n",
       "      <td>3.5</td>\n",
       "      <td>sun</td>\n",
       "      <td>2015</td>\n",
       "    </tr>\n",
       "  </tbody>\n",
       "</table>\n",
       "<p>1461 rows × 7 columns</p>\n",
       "</div>"
      ],
      "text/plain": [
       "            date  precipitation  temp_max  temp_min  wind  weather  year\n",
       "0       2012/1/1            0.0      12.8       5.0   4.7  drizzle  2012\n",
       "1       2012/1/2           10.9      10.6       2.8   4.5     rain  2012\n",
       "2       2012/1/3            0.8      11.7       7.2   2.3     rain  2012\n",
       "3       2012/1/4           20.3      12.2       5.6   4.7     rain  2012\n",
       "4       2012/1/5            1.3       8.9       2.8   6.1     rain  2012\n",
       "...          ...            ...       ...       ...   ...      ...   ...\n",
       "1456  2015/12/27            8.6       4.4       1.7   2.9      fog  2015\n",
       "1457  2015/12/28            1.5       5.0       1.7   1.3      fog  2015\n",
       "1458  2015/12/29            0.0       7.2       0.6   2.6      fog  2015\n",
       "1459  2015/12/30            0.0       5.6      -1.0   3.4      sun  2015\n",
       "1460  2015/12/31            0.0       5.6      -2.1   3.5      sun  2015\n",
       "\n",
       "[1461 rows x 7 columns]"
      ]
     },
     "execution_count": 41,
     "metadata": {},
     "output_type": "execute_result"
    }
   ],
   "source": [
    "# DatetimeIndex 會把日期的年月日分開，後面加 .year 是取年份\n",
    "df['year'] = pd.DatetimeIndex(df['date']).year\n",
    "df"
   ]
  },
  {
   "cell_type": "code",
   "execution_count": 108,
   "id": "2a21b839",
   "metadata": {},
   "outputs": [
    {
     "data": {
      "text/html": [
       "<div>\n",
       "<style scoped>\n",
       "    .dataframe tbody tr th:only-of-type {\n",
       "        vertical-align: middle;\n",
       "    }\n",
       "\n",
       "    .dataframe tbody tr th {\n",
       "        vertical-align: top;\n",
       "    }\n",
       "\n",
       "    .dataframe thead th {\n",
       "        text-align: right;\n",
       "    }\n",
       "</style>\n",
       "<table border=\"1\" class=\"dataframe\">\n",
       "  <thead>\n",
       "    <tr style=\"text-align: right;\">\n",
       "      <th></th>\n",
       "      <th>date</th>\n",
       "      <th>precipitation</th>\n",
       "      <th>temp_max</th>\n",
       "      <th>temp_min</th>\n",
       "      <th>wind</th>\n",
       "      <th>weather</th>\n",
       "      <th>year</th>\n",
       "    </tr>\n",
       "  </thead>\n",
       "  <tbody>\n",
       "    <tr>\n",
       "      <th>0</th>\n",
       "      <td>2012/1/1</td>\n",
       "      <td>0.0</td>\n",
       "      <td>12.8</td>\n",
       "      <td>5.0</td>\n",
       "      <td>4.7</td>\n",
       "      <td>drizzle</td>\n",
       "      <td>2012</td>\n",
       "    </tr>\n",
       "    <tr>\n",
       "      <th>1</th>\n",
       "      <td>2012/1/2</td>\n",
       "      <td>10.9</td>\n",
       "      <td>10.6</td>\n",
       "      <td>2.8</td>\n",
       "      <td>4.5</td>\n",
       "      <td>rain</td>\n",
       "      <td>2012</td>\n",
       "    </tr>\n",
       "    <tr>\n",
       "      <th>2</th>\n",
       "      <td>2012/1/3</td>\n",
       "      <td>0.8</td>\n",
       "      <td>11.7</td>\n",
       "      <td>7.2</td>\n",
       "      <td>2.3</td>\n",
       "      <td>rain</td>\n",
       "      <td>2012</td>\n",
       "    </tr>\n",
       "    <tr>\n",
       "      <th>3</th>\n",
       "      <td>2012/1/4</td>\n",
       "      <td>20.3</td>\n",
       "      <td>12.2</td>\n",
       "      <td>5.6</td>\n",
       "      <td>4.7</td>\n",
       "      <td>rain</td>\n",
       "      <td>2012</td>\n",
       "    </tr>\n",
       "    <tr>\n",
       "      <th>4</th>\n",
       "      <td>2012/1/5</td>\n",
       "      <td>1.3</td>\n",
       "      <td>8.9</td>\n",
       "      <td>2.8</td>\n",
       "      <td>6.1</td>\n",
       "      <td>rain</td>\n",
       "      <td>2012</td>\n",
       "    </tr>\n",
       "    <tr>\n",
       "      <th>...</th>\n",
       "      <td>...</td>\n",
       "      <td>...</td>\n",
       "      <td>...</td>\n",
       "      <td>...</td>\n",
       "      <td>...</td>\n",
       "      <td>...</td>\n",
       "      <td>...</td>\n",
       "    </tr>\n",
       "    <tr>\n",
       "      <th>361</th>\n",
       "      <td>2012/12/27</td>\n",
       "      <td>4.1</td>\n",
       "      <td>7.8</td>\n",
       "      <td>3.3</td>\n",
       "      <td>3.2</td>\n",
       "      <td>rain</td>\n",
       "      <td>2012</td>\n",
       "    </tr>\n",
       "    <tr>\n",
       "      <th>362</th>\n",
       "      <td>2012/12/28</td>\n",
       "      <td>0.0</td>\n",
       "      <td>8.3</td>\n",
       "      <td>3.9</td>\n",
       "      <td>1.7</td>\n",
       "      <td>rain</td>\n",
       "      <td>2012</td>\n",
       "    </tr>\n",
       "    <tr>\n",
       "      <th>363</th>\n",
       "      <td>2012/12/29</td>\n",
       "      <td>1.5</td>\n",
       "      <td>5.0</td>\n",
       "      <td>3.3</td>\n",
       "      <td>1.7</td>\n",
       "      <td>rain</td>\n",
       "      <td>2012</td>\n",
       "    </tr>\n",
       "    <tr>\n",
       "      <th>364</th>\n",
       "      <td>2012/12/30</td>\n",
       "      <td>0.0</td>\n",
       "      <td>4.4</td>\n",
       "      <td>0.0</td>\n",
       "      <td>1.8</td>\n",
       "      <td>drizzle</td>\n",
       "      <td>2012</td>\n",
       "    </tr>\n",
       "    <tr>\n",
       "      <th>365</th>\n",
       "      <td>2012/12/31</td>\n",
       "      <td>0.0</td>\n",
       "      <td>3.3</td>\n",
       "      <td>-1.1</td>\n",
       "      <td>2.0</td>\n",
       "      <td>drizzle</td>\n",
       "      <td>2012</td>\n",
       "    </tr>\n",
       "  </tbody>\n",
       "</table>\n",
       "<p>366 rows × 7 columns</p>\n",
       "</div>"
      ],
      "text/plain": [
       "           date  precipitation  temp_max  temp_min  wind  weather  year\n",
       "0      2012/1/1            0.0      12.8       5.0   4.7  drizzle  2012\n",
       "1      2012/1/2           10.9      10.6       2.8   4.5     rain  2012\n",
       "2      2012/1/3            0.8      11.7       7.2   2.3     rain  2012\n",
       "3      2012/1/4           20.3      12.2       5.6   4.7     rain  2012\n",
       "4      2012/1/5            1.3       8.9       2.8   6.1     rain  2012\n",
       "..          ...            ...       ...       ...   ...      ...   ...\n",
       "361  2012/12/27            4.1       7.8       3.3   3.2     rain  2012\n",
       "362  2012/12/28            0.0       8.3       3.9   1.7     rain  2012\n",
       "363  2012/12/29            1.5       5.0       3.3   1.7     rain  2012\n",
       "364  2012/12/30            0.0       4.4       0.0   1.8  drizzle  2012\n",
       "365  2012/12/31            0.0       3.3      -1.1   2.0  drizzle  2012\n",
       "\n",
       "[366 rows x 7 columns]"
      ]
     },
     "execution_count": 108,
     "metadata": {},
     "output_type": "execute_result"
    }
   ],
   "source": [
    "df2012 = df[df['year'] == 2012]\n",
    "df2012"
   ]
  },
  {
   "cell_type": "code",
   "execution_count": null,
   "id": "2df9f98c",
   "metadata": {},
   "outputs": [],
   "source": []
  }
 ],
 "metadata": {
  "kernelspec": {
   "display_name": "Python 3",
   "language": "python",
   "name": "python3"
  },
  "language_info": {
   "codemirror_mode": {
    "name": "ipython",
    "version": 3
   },
   "file_extension": ".py",
   "mimetype": "text/x-python",
   "name": "python",
   "nbconvert_exporter": "python",
   "pygments_lexer": "ipython3",
   "version": "3.9.12"
  }
 },
 "nbformat": 4,
 "nbformat_minor": 5
}
