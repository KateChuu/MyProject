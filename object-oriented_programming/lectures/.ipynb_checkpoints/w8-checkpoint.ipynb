{
 "cells": [
  {
   "cell_type": "markdown",
   "id": "c28d15fa",
   "metadata": {},
   "source": [
    "# Visualizing the data"
   ]
  },
  {
   "cell_type": "code",
   "execution_count": 1,
   "id": "9158041c",
   "metadata": {},
   "outputs": [],
   "source": [
    "import numpy as np\n",
    "import pandas as pd\n",
    "import matplotlib.pyplot as plt"
   ]
  },
  {
   "cell_type": "code",
   "execution_count": 2,
   "id": "d6d8503a",
   "metadata": {},
   "outputs": [
    {
     "data": {
      "text/html": [
       "<div>\n",
       "<style scoped>\n",
       "    .dataframe tbody tr th:only-of-type {\n",
       "        vertical-align: middle;\n",
       "    }\n",
       "\n",
       "    .dataframe tbody tr th {\n",
       "        vertical-align: top;\n",
       "    }\n",
       "\n",
       "    .dataframe thead th {\n",
       "        text-align: right;\n",
       "    }\n",
       "</style>\n",
       "<table border=\"1\" class=\"dataframe\">\n",
       "  <thead>\n",
       "    <tr style=\"text-align: right;\">\n",
       "      <th></th>\n",
       "      <th>Fremont Bridge Total</th>\n",
       "      <th>Fremont Bridge East Sidewalk</th>\n",
       "      <th>Fremont Bridge West Sidewalk</th>\n",
       "    </tr>\n",
       "    <tr>\n",
       "      <th>Date</th>\n",
       "      <th></th>\n",
       "      <th></th>\n",
       "      <th></th>\n",
       "    </tr>\n",
       "  </thead>\n",
       "  <tbody>\n",
       "    <tr>\n",
       "      <th>2012-10-03 00:00:00</th>\n",
       "      <td>13.0</td>\n",
       "      <td>4.0</td>\n",
       "      <td>9.0</td>\n",
       "    </tr>\n",
       "    <tr>\n",
       "      <th>2012-10-03 01:00:00</th>\n",
       "      <td>10.0</td>\n",
       "      <td>4.0</td>\n",
       "      <td>6.0</td>\n",
       "    </tr>\n",
       "    <tr>\n",
       "      <th>2012-10-03 02:00:00</th>\n",
       "      <td>2.0</td>\n",
       "      <td>1.0</td>\n",
       "      <td>1.0</td>\n",
       "    </tr>\n",
       "    <tr>\n",
       "      <th>2012-10-03 03:00:00</th>\n",
       "      <td>5.0</td>\n",
       "      <td>2.0</td>\n",
       "      <td>3.0</td>\n",
       "    </tr>\n",
       "    <tr>\n",
       "      <th>2012-10-03 04:00:00</th>\n",
       "      <td>7.0</td>\n",
       "      <td>6.0</td>\n",
       "      <td>1.0</td>\n",
       "    </tr>\n",
       "    <tr>\n",
       "      <th>...</th>\n",
       "      <td>...</td>\n",
       "      <td>...</td>\n",
       "      <td>...</td>\n",
       "    </tr>\n",
       "    <tr>\n",
       "      <th>2019-10-31 19:00:00</th>\n",
       "      <td>111.0</td>\n",
       "      <td>44.0</td>\n",
       "      <td>67.0</td>\n",
       "    </tr>\n",
       "    <tr>\n",
       "      <th>2019-10-31 20:00:00</th>\n",
       "      <td>52.0</td>\n",
       "      <td>17.0</td>\n",
       "      <td>35.0</td>\n",
       "    </tr>\n",
       "    <tr>\n",
       "      <th>2019-10-31 21:00:00</th>\n",
       "      <td>41.0</td>\n",
       "      <td>16.0</td>\n",
       "      <td>25.0</td>\n",
       "    </tr>\n",
       "    <tr>\n",
       "      <th>2019-10-31 22:00:00</th>\n",
       "      <td>32.0</td>\n",
       "      <td>14.0</td>\n",
       "      <td>18.0</td>\n",
       "    </tr>\n",
       "    <tr>\n",
       "      <th>2019-10-31 23:00:00</th>\n",
       "      <td>18.0</td>\n",
       "      <td>6.0</td>\n",
       "      <td>12.0</td>\n",
       "    </tr>\n",
       "  </tbody>\n",
       "</table>\n",
       "<p>62040 rows × 3 columns</p>\n",
       "</div>"
      ],
      "text/plain": [
       "                     Fremont Bridge Total  Fremont Bridge East Sidewalk  \\\n",
       "Date                                                                      \n",
       "2012-10-03 00:00:00                  13.0                           4.0   \n",
       "2012-10-03 01:00:00                  10.0                           4.0   \n",
       "2012-10-03 02:00:00                   2.0                           1.0   \n",
       "2012-10-03 03:00:00                   5.0                           2.0   \n",
       "2012-10-03 04:00:00                   7.0                           6.0   \n",
       "...                                   ...                           ...   \n",
       "2019-10-31 19:00:00                 111.0                          44.0   \n",
       "2019-10-31 20:00:00                  52.0                          17.0   \n",
       "2019-10-31 21:00:00                  41.0                          16.0   \n",
       "2019-10-31 22:00:00                  32.0                          14.0   \n",
       "2019-10-31 23:00:00                  18.0                           6.0   \n",
       "\n",
       "                     Fremont Bridge West Sidewalk  \n",
       "Date                                               \n",
       "2012-10-03 00:00:00                           9.0  \n",
       "2012-10-03 01:00:00                           6.0  \n",
       "2012-10-03 02:00:00                           1.0  \n",
       "2012-10-03 03:00:00                           3.0  \n",
       "2012-10-03 04:00:00                           1.0  \n",
       "...                                           ...  \n",
       "2019-10-31 19:00:00                          67.0  \n",
       "2019-10-31 20:00:00                          35.0  \n",
       "2019-10-31 21:00:00                          25.0  \n",
       "2019-10-31 22:00:00                          18.0  \n",
       "2019-10-31 23:00:00                          12.0  \n",
       "\n",
       "[62040 rows x 3 columns]"
      ]
     },
     "execution_count": 2,
     "metadata": {},
     "output_type": "execute_result"
    }
   ],
   "source": [
    "# index_col: Column(s) to use as the row labels of the DataFrame\n",
    "data = pd.read_csv('../data/fremont-bridge-hourly-bicycle-counts-by-month-october-2012-to-present.csv',\n",
    "                index_col='Date', parse_dates=True)\n",
    "data"
   ]
  },
  {
   "cell_type": "code",
   "execution_count": 3,
   "id": "2f07daa4",
   "metadata": {},
   "outputs": [
    {
     "data": {
      "text/html": [
       "<div>\n",
       "<style scoped>\n",
       "    .dataframe tbody tr th:only-of-type {\n",
       "        vertical-align: middle;\n",
       "    }\n",
       "\n",
       "    .dataframe tbody tr th {\n",
       "        vertical-align: top;\n",
       "    }\n",
       "\n",
       "    .dataframe thead th {\n",
       "        text-align: right;\n",
       "    }\n",
       "</style>\n",
       "<table border=\"1\" class=\"dataframe\">\n",
       "  <thead>\n",
       "    <tr style=\"text-align: right;\">\n",
       "      <th></th>\n",
       "      <th>Total</th>\n",
       "      <th>East</th>\n",
       "      <th>West</th>\n",
       "    </tr>\n",
       "    <tr>\n",
       "      <th>Date</th>\n",
       "      <th></th>\n",
       "      <th></th>\n",
       "      <th></th>\n",
       "    </tr>\n",
       "  </thead>\n",
       "  <tbody>\n",
       "    <tr>\n",
       "      <th>2012-10-03 00:00:00</th>\n",
       "      <td>13.0</td>\n",
       "      <td>4.0</td>\n",
       "      <td>9.0</td>\n",
       "    </tr>\n",
       "    <tr>\n",
       "      <th>2012-10-03 01:00:00</th>\n",
       "      <td>10.0</td>\n",
       "      <td>4.0</td>\n",
       "      <td>6.0</td>\n",
       "    </tr>\n",
       "    <tr>\n",
       "      <th>2012-10-03 02:00:00</th>\n",
       "      <td>2.0</td>\n",
       "      <td>1.0</td>\n",
       "      <td>1.0</td>\n",
       "    </tr>\n",
       "    <tr>\n",
       "      <th>2012-10-03 03:00:00</th>\n",
       "      <td>5.0</td>\n",
       "      <td>2.0</td>\n",
       "      <td>3.0</td>\n",
       "    </tr>\n",
       "    <tr>\n",
       "      <th>2012-10-03 04:00:00</th>\n",
       "      <td>7.0</td>\n",
       "      <td>6.0</td>\n",
       "      <td>1.0</td>\n",
       "    </tr>\n",
       "    <tr>\n",
       "      <th>...</th>\n",
       "      <td>...</td>\n",
       "      <td>...</td>\n",
       "      <td>...</td>\n",
       "    </tr>\n",
       "    <tr>\n",
       "      <th>2019-10-31 19:00:00</th>\n",
       "      <td>111.0</td>\n",
       "      <td>44.0</td>\n",
       "      <td>67.0</td>\n",
       "    </tr>\n",
       "    <tr>\n",
       "      <th>2019-10-31 20:00:00</th>\n",
       "      <td>52.0</td>\n",
       "      <td>17.0</td>\n",
       "      <td>35.0</td>\n",
       "    </tr>\n",
       "    <tr>\n",
       "      <th>2019-10-31 21:00:00</th>\n",
       "      <td>41.0</td>\n",
       "      <td>16.0</td>\n",
       "      <td>25.0</td>\n",
       "    </tr>\n",
       "    <tr>\n",
       "      <th>2019-10-31 22:00:00</th>\n",
       "      <td>32.0</td>\n",
       "      <td>14.0</td>\n",
       "      <td>18.0</td>\n",
       "    </tr>\n",
       "    <tr>\n",
       "      <th>2019-10-31 23:00:00</th>\n",
       "      <td>18.0</td>\n",
       "      <td>6.0</td>\n",
       "      <td>12.0</td>\n",
       "    </tr>\n",
       "  </tbody>\n",
       "</table>\n",
       "<p>62040 rows × 3 columns</p>\n",
       "</div>"
      ],
      "text/plain": [
       "                     Total  East  West\n",
       "Date                                  \n",
       "2012-10-03 00:00:00   13.0   4.0   9.0\n",
       "2012-10-03 01:00:00   10.0   4.0   6.0\n",
       "2012-10-03 02:00:00    2.0   1.0   1.0\n",
       "2012-10-03 03:00:00    5.0   2.0   3.0\n",
       "2012-10-03 04:00:00    7.0   6.0   1.0\n",
       "...                    ...   ...   ...\n",
       "2019-10-31 19:00:00  111.0  44.0  67.0\n",
       "2019-10-31 20:00:00   52.0  17.0  35.0\n",
       "2019-10-31 21:00:00   41.0  16.0  25.0\n",
       "2019-10-31 22:00:00   32.0  14.0  18.0\n",
       "2019-10-31 23:00:00   18.0   6.0  12.0\n",
       "\n",
       "[62040 rows x 3 columns]"
      ]
     },
     "execution_count": 3,
     "metadata": {},
     "output_type": "execute_result"
    }
   ],
   "source": [
    "data.rename(columns={'Fremont Bridge Total': 'Total', 'Fremont Bridge East Sidewalk': 'East', 'Fremont Bridge West Sidewalk': 'West'},\n",
    "            inplace=True)\n",
    "data"
   ]
  },
  {
   "cell_type": "code",
   "execution_count": 4,
   "id": "ceea82c2",
   "metadata": {},
   "outputs": [
    {
     "data": {
      "text/html": [
       "<div>\n",
       "<style scoped>\n",
       "    .dataframe tbody tr th:only-of-type {\n",
       "        vertical-align: middle;\n",
       "    }\n",
       "\n",
       "    .dataframe tbody tr th {\n",
       "        vertical-align: top;\n",
       "    }\n",
       "\n",
       "    .dataframe thead th {\n",
       "        text-align: right;\n",
       "    }\n",
       "</style>\n",
       "<table border=\"1\" class=\"dataframe\">\n",
       "  <thead>\n",
       "    <tr style=\"text-align: right;\">\n",
       "      <th></th>\n",
       "      <th>Total</th>\n",
       "      <th>East</th>\n",
       "      <th>West</th>\n",
       "    </tr>\n",
       "  </thead>\n",
       "  <tbody>\n",
       "    <tr>\n",
       "      <th>count</th>\n",
       "      <td>62030.000000</td>\n",
       "      <td>62030.000000</td>\n",
       "      <td>62030.000000</td>\n",
       "    </tr>\n",
       "    <tr>\n",
       "      <th>mean</th>\n",
       "      <td>114.654732</td>\n",
       "      <td>52.859455</td>\n",
       "      <td>61.795276</td>\n",
       "    </tr>\n",
       "    <tr>\n",
       "      <th>std</th>\n",
       "      <td>145.686289</td>\n",
       "      <td>67.739036</td>\n",
       "      <td>90.417584</td>\n",
       "    </tr>\n",
       "    <tr>\n",
       "      <th>min</th>\n",
       "      <td>0.000000</td>\n",
       "      <td>0.000000</td>\n",
       "      <td>0.000000</td>\n",
       "    </tr>\n",
       "    <tr>\n",
       "      <th>25%</th>\n",
       "      <td>15.000000</td>\n",
       "      <td>7.000000</td>\n",
       "      <td>7.000000</td>\n",
       "    </tr>\n",
       "    <tr>\n",
       "      <th>50%</th>\n",
       "      <td>62.000000</td>\n",
       "      <td>29.000000</td>\n",
       "      <td>30.000000</td>\n",
       "    </tr>\n",
       "    <tr>\n",
       "      <th>75%</th>\n",
       "      <td>150.000000</td>\n",
       "      <td>71.000000</td>\n",
       "      <td>74.000000</td>\n",
       "    </tr>\n",
       "    <tr>\n",
       "      <th>max</th>\n",
       "      <td>1097.000000</td>\n",
       "      <td>698.000000</td>\n",
       "      <td>850.000000</td>\n",
       "    </tr>\n",
       "  </tbody>\n",
       "</table>\n",
       "</div>"
      ],
      "text/plain": [
       "              Total          East          West\n",
       "count  62030.000000  62030.000000  62030.000000\n",
       "mean     114.654732     52.859455     61.795276\n",
       "std      145.686289     67.739036     90.417584\n",
       "min        0.000000      0.000000      0.000000\n",
       "25%       15.000000      7.000000      7.000000\n",
       "50%       62.000000     29.000000     30.000000\n",
       "75%      150.000000     71.000000     74.000000\n",
       "max     1097.000000    698.000000    850.000000"
      ]
     },
     "execution_count": 4,
     "metadata": {},
     "output_type": "execute_result"
    }
   ],
   "source": [
    "data.dropna().describe()"
   ]
  },
  {
   "cell_type": "code",
   "execution_count": 5,
   "id": "3b43fb50",
   "metadata": {},
   "outputs": [
    {
     "data": {
      "text/plain": [
       "<AxesSubplot:xlabel='Date'>"
      ]
     },
     "execution_count": 5,
     "metadata": {},
     "output_type": "execute_result"
    },
    {
     "data": {
      "image/png": "[encoded data removed]",
      "text/plain": [
       "<Figure size 432x288 with 1 Axes>"
      ]
     },
     "metadata": {
      "needs_background": "light"
     },
     "output_type": "display_data"
    }
   ],
   "source": [
    "%matplotlib inline\n",
    "\n",
    "# 本來前面可放 plt.plot(自己設定...)，這邊前面放 data.plot() 是指我們有資料嗎?????\n",
    "data.plot()\n",
    "# however, the plot is messy, so we can't inder anything from it."
   ]
  },
  {
   "cell_type": "code",
   "execution_count": 7,
   "id": "ae27d872",
   "metadata": {},
   "outputs": [
    {
     "data": {
      "text/html": [
       "<div>\n",
       "<style scoped>\n",
       "    .dataframe tbody tr th:only-of-type {\n",
       "        vertical-align: middle;\n",
       "    }\n",
       "\n",
       "    .dataframe tbody tr th {\n",
       "        vertical-align: top;\n",
       "    }\n",
       "\n",
       "    .dataframe thead th {\n",
       "        text-align: right;\n",
       "    }\n",
       "</style>\n",
       "<table border=\"1\" class=\"dataframe\">\n",
       "  <thead>\n",
       "    <tr style=\"text-align: right;\">\n",
       "      <th></th>\n",
       "      <th>Total</th>\n",
       "      <th>East</th>\n",
       "      <th>West</th>\n",
       "    </tr>\n",
       "    <tr>\n",
       "      <th>Date</th>\n",
       "      <th></th>\n",
       "      <th></th>\n",
       "      <th></th>\n",
       "    </tr>\n",
       "  </thead>\n",
       "  <tbody>\n",
       "    <tr>\n",
       "      <th>2012-10-07</th>\n",
       "      <td>14292.0</td>\n",
       "      <td>7297.0</td>\n",
       "      <td>6995.0</td>\n",
       "    </tr>\n",
       "    <tr>\n",
       "      <th>2012-10-14</th>\n",
       "      <td>16795.0</td>\n",
       "      <td>8679.0</td>\n",
       "      <td>8116.0</td>\n",
       "    </tr>\n",
       "    <tr>\n",
       "      <th>2012-10-21</th>\n",
       "      <td>15509.0</td>\n",
       "      <td>7946.0</td>\n",
       "      <td>7563.0</td>\n",
       "    </tr>\n",
       "    <tr>\n",
       "      <th>2012-10-28</th>\n",
       "      <td>13437.0</td>\n",
       "      <td>6901.0</td>\n",
       "      <td>6536.0</td>\n",
       "    </tr>\n",
       "    <tr>\n",
       "      <th>2012-11-04</th>\n",
       "      <td>12194.0</td>\n",
       "      <td>6408.0</td>\n",
       "      <td>5786.0</td>\n",
       "    </tr>\n",
       "    <tr>\n",
       "      <th>...</th>\n",
       "      <td>...</td>\n",
       "      <td>...</td>\n",
       "      <td>...</td>\n",
       "    </tr>\n",
       "    <tr>\n",
       "      <th>2019-10-06</th>\n",
       "      <td>27270.0</td>\n",
       "      <td>9785.0</td>\n",
       "      <td>17485.0</td>\n",
       "    </tr>\n",
       "    <tr>\n",
       "      <th>2019-10-13</th>\n",
       "      <td>23495.0</td>\n",
       "      <td>8543.0</td>\n",
       "      <td>14952.0</td>\n",
       "    </tr>\n",
       "    <tr>\n",
       "      <th>2019-10-20</th>\n",
       "      <td>19332.0</td>\n",
       "      <td>6835.0</td>\n",
       "      <td>12497.0</td>\n",
       "    </tr>\n",
       "    <tr>\n",
       "      <th>2019-10-27</th>\n",
       "      <td>22841.0</td>\n",
       "      <td>8089.0</td>\n",
       "      <td>14752.0</td>\n",
       "    </tr>\n",
       "    <tr>\n",
       "      <th>2019-11-03</th>\n",
       "      <td>16566.0</td>\n",
       "      <td>5583.0</td>\n",
       "      <td>10983.0</td>\n",
       "    </tr>\n",
       "  </tbody>\n",
       "</table>\n",
       "<p>370 rows × 3 columns</p>\n",
       "</div>"
      ],
      "text/plain": [
       "              Total    East     West\n",
       "Date                                \n",
       "2012-10-07  14292.0  7297.0   6995.0\n",
       "2012-10-14  16795.0  8679.0   8116.0\n",
       "2012-10-21  15509.0  7946.0   7563.0\n",
       "2012-10-28  13437.0  6901.0   6536.0\n",
       "2012-11-04  12194.0  6408.0   5786.0\n",
       "...             ...     ...      ...\n",
       "2019-10-06  27270.0  9785.0  17485.0\n",
       "2019-10-13  23495.0  8543.0  14952.0\n",
       "2019-10-20  19332.0  6835.0  12497.0\n",
       "2019-10-27  22841.0  8089.0  14752.0\n",
       "2019-11-03  16566.0  5583.0  10983.0\n",
       "\n",
       "[370 rows x 3 columns]"
      ]
     },
     "execution_count": 7,
     "metadata": {},
     "output_type": "execute_result"
    }
   ],
   "source": [
    "# only when the data has a datetime-like index, we can use resample to group the data with specific frequency\n",
    "# 以\"周\"為單位把數字加起來，本來是以小時為單位\n",
    "# we need to put .sum() or .mean() or something after resample(), just like agg\n",
    "weekly = data.resample('W').sum()\n",
    "weekly"
   ]
  },
  {
   "cell_type": "code",
   "execution_count": 8,
   "id": "a124443b",
   "metadata": {},
   "outputs": [
    {
     "data": {
      "text/plain": [
       "Text(0.5, 0, 'Year')"
      ]
     },
     "execution_count": 8,
     "metadata": {},
     "output_type": "execute_result"
    },
    {
     "data": {
      "image/png": "[encoded data removed]",
      "text/plain": [
       "<Figure size 432x288 with 1 Axes>"
      ]
     },
     "metadata": {
      "needs_background": "light"
     },
     "output_type": "display_data"
    }
   ],
   "source": [
    "weekly.plot(style = [':', '--', '-']) # these 3 patterns represent 3 columns\n",
    "plt.ylabel('Weekly bicycle count')\n",
    "plt.xlabel('Year')"
   ]
  },
  {
   "cell_type": "markdown",
   "id": "e97e0f58",
   "metadata": {},
   "source": [
    "# 30 days monthly mean\n",
    "- Another way to aggregate the data is by rolling mean\n",
    "- using pd.rolling.mean() function"
   ]
  },
  {
   "cell_type": "code",
   "execution_count": 9,
   "id": "218a51ff",
   "metadata": {},
   "outputs": [
    {
     "data": {
      "text/plain": [
       "Text(0, 0.5, 'Mean monthly count')"
      ]
     },
     "execution_count": 9,
     "metadata": {},
     "output_type": "execute_result"
    },
    {
     "data": {
      "image/png": "[encoded data removed]",
      "text/plain": [
       "<Figure size 432x288 with 1 Axes>"
      ]
     },
     "metadata": {
      "needs_background": "light"
     },
     "output_type": "display_data"
    }
   ],
   "source": [
    "month = data.resample('M').sum()\n",
    "month.plot(style = [':', '--', '-']) \n",
    "plt.ylabel('Mean monthly count')"
   ]
  },
  {
   "cell_type": "code",
   "execution_count": 10,
   "id": "37f7a8bf",
   "metadata": {},
   "outputs": [
    {
     "data": {
      "text/html": [
       "<div>\n",
       "<style scoped>\n",
       "    .dataframe tbody tr th:only-of-type {\n",
       "        vertical-align: middle;\n",
       "    }\n",
       "\n",
       "    .dataframe tbody tr th {\n",
       "        vertical-align: top;\n",
       "    }\n",
       "\n",
       "    .dataframe thead th {\n",
       "        text-align: right;\n",
       "    }\n",
       "</style>\n",
       "<table border=\"1\" class=\"dataframe\">\n",
       "  <thead>\n",
       "    <tr style=\"text-align: right;\">\n",
       "      <th></th>\n",
       "      <th>Total</th>\n",
       "      <th>East</th>\n",
       "      <th>West</th>\n",
       "    </tr>\n",
       "    <tr>\n",
       "      <th>Date</th>\n",
       "      <th></th>\n",
       "      <th></th>\n",
       "      <th></th>\n",
       "    </tr>\n",
       "  </thead>\n",
       "  <tbody>\n",
       "    <tr>\n",
       "      <th>2012-10-03</th>\n",
       "      <td>3521.0</td>\n",
       "      <td>1760.0</td>\n",
       "      <td>1761.0</td>\n",
       "    </tr>\n",
       "    <tr>\n",
       "      <th>2012-10-04</th>\n",
       "      <td>3475.0</td>\n",
       "      <td>1708.0</td>\n",
       "      <td>1767.0</td>\n",
       "    </tr>\n",
       "    <tr>\n",
       "      <th>2012-10-05</th>\n",
       "      <td>3148.0</td>\n",
       "      <td>1558.0</td>\n",
       "      <td>1590.0</td>\n",
       "    </tr>\n",
       "    <tr>\n",
       "      <th>2012-10-06</th>\n",
       "      <td>2006.0</td>\n",
       "      <td>1080.0</td>\n",
       "      <td>926.0</td>\n",
       "    </tr>\n",
       "    <tr>\n",
       "      <th>2012-10-07</th>\n",
       "      <td>2142.0</td>\n",
       "      <td>1191.0</td>\n",
       "      <td>951.0</td>\n",
       "    </tr>\n",
       "    <tr>\n",
       "      <th>...</th>\n",
       "      <td>...</td>\n",
       "      <td>...</td>\n",
       "      <td>...</td>\n",
       "    </tr>\n",
       "    <tr>\n",
       "      <th>2019-10-27</th>\n",
       "      <td>1755.0</td>\n",
       "      <td>794.0</td>\n",
       "      <td>961.0</td>\n",
       "    </tr>\n",
       "    <tr>\n",
       "      <th>2019-10-28</th>\n",
       "      <td>4322.0</td>\n",
       "      <td>1479.0</td>\n",
       "      <td>2843.0</td>\n",
       "    </tr>\n",
       "    <tr>\n",
       "      <th>2019-10-29</th>\n",
       "      <td>4323.0</td>\n",
       "      <td>1437.0</td>\n",
       "      <td>2886.0</td>\n",
       "    </tr>\n",
       "    <tr>\n",
       "      <th>2019-10-30</th>\n",
       "      <td>4094.0</td>\n",
       "      <td>1407.0</td>\n",
       "      <td>2687.0</td>\n",
       "    </tr>\n",
       "    <tr>\n",
       "      <th>2019-10-31</th>\n",
       "      <td>3827.0</td>\n",
       "      <td>1260.0</td>\n",
       "      <td>2567.0</td>\n",
       "    </tr>\n",
       "  </tbody>\n",
       "</table>\n",
       "<p>2585 rows × 3 columns</p>\n",
       "</div>"
      ],
      "text/plain": [
       "             Total    East    West\n",
       "Date                              \n",
       "2012-10-03  3521.0  1760.0  1761.0\n",
       "2012-10-04  3475.0  1708.0  1767.0\n",
       "2012-10-05  3148.0  1558.0  1590.0\n",
       "2012-10-06  2006.0  1080.0   926.0\n",
       "2012-10-07  2142.0  1191.0   951.0\n",
       "...            ...     ...     ...\n",
       "2019-10-27  1755.0   794.0   961.0\n",
       "2019-10-28  4322.0  1479.0  2843.0\n",
       "2019-10-29  4323.0  1437.0  2886.0\n",
       "2019-10-30  4094.0  1407.0  2687.0\n",
       "2019-10-31  3827.0  1260.0  2567.0\n",
       "\n",
       "[2585 rows x 3 columns]"
      ]
     },
     "execution_count": 10,
     "metadata": {},
     "output_type": "execute_result"
    }
   ],
   "source": [
    "# a day as one unit\n",
    "daily = data.resample('D').sum()\n",
    "daily"
   ]
  },
  {
   "cell_type": "code",
   "execution_count": 11,
   "id": "834a9019",
   "metadata": {},
   "outputs": [
    {
     "data": {
      "text/plain": [
       "Text(0, 0.5, 'Mean monthly count')"
      ]
     },
     "execution_count": 11,
     "metadata": {},
     "output_type": "execute_result"
    },
    {
     "data": {
      "image/png": "[encoded data removed]",
      "text/plain": [
       "<Figure size 432x288 with 1 Axes>"
      ]
     },
     "metadata": {
      "needs_background": "light"
     },
     "output_type": "display_data"
    }
   ],
   "source": [
    "# set a rolling window; its length is 30 units(days).\n",
    "daily.rolling(30, center=True).sum().plot(style = [':', '--', '-']) \n",
    "plt.ylabel('Mean monthly count')\n",
    "\n",
    "# the difference of this plot and the previous one may be the data itself\n",
    "# if we can't resample data with a specific time, we have to use .rolling()\n",
    "# we happend to be able to resample the data with month as unit here"
   ]
  },
  {
   "cell_type": "code",
   "execution_count": 15,
   "id": "d35f464a",
   "metadata": {},
   "outputs": [
    {
     "data": {
      "text/plain": [
       "<AxesSubplot:xlabel='Date'>"
      ]
     },
     "execution_count": 15,
     "metadata": {},
     "output_type": "execute_result"
    },
    {
     "data": {
      "image/png": "[encoded data removed]",
      "text/plain": [
       "<Figure size 432x288 with 1 Axes>"
      ]
     },
     "metadata": {
      "needs_background": "light"
     },
     "output_type": "display_data"
    }
   ],
   "source": [
    "# use window function to smooth the version of a rolling mean\n",
    "# rolling mean of 50 days\n",
    "\n",
    "daily.rolling(50, center=True, win_type='gaussian').sum(std=10).plot(style=[':', '--', '-'])"
   ]
  },
  {
   "cell_type": "code",
   "execution_count": 20,
   "id": "76539bbd",
   "metadata": {},
   "outputs": [
    {
     "data": {
      "text/plain": [
       "DatetimeIndex(['2012-10-03 00:00:00', '2012-10-03 01:00:00',\n",
       "               '2012-10-03 02:00:00', '2012-10-03 03:00:00',\n",
       "               '2012-10-03 04:00:00', '2012-10-03 05:00:00',\n",
       "               '2012-10-03 06:00:00', '2012-10-03 07:00:00',\n",
       "               '2012-10-03 08:00:00', '2012-10-03 09:00:00',\n",
       "               ...\n",
       "               '2019-10-31 14:00:00', '2019-10-31 15:00:00',\n",
       "               '2019-10-31 16:00:00', '2019-10-31 17:00:00',\n",
       "               '2019-10-31 18:00:00', '2019-10-31 19:00:00',\n",
       "               '2019-10-31 20:00:00', '2019-10-31 21:00:00',\n",
       "               '2019-10-31 22:00:00', '2019-10-31 23:00:00'],\n",
       "              dtype='datetime64[ns]', name='Date', length=62040, freq=None)"
      ]
     },
     "execution_count": 20,
     "metadata": {},
     "output_type": "execute_result"
    }
   ],
   "source": [
    "data.index # year, month, day, time"
   ]
  },
  {
   "cell_type": "code",
   "execution_count": 13,
   "id": "ccf85d4a",
   "metadata": {},
   "outputs": [
    {
     "data": {
      "text/html": [
       "<div>\n",
       "<style scoped>\n",
       "    .dataframe tbody tr th:only-of-type {\n",
       "        vertical-align: middle;\n",
       "    }\n",
       "\n",
       "    .dataframe tbody tr th {\n",
       "        vertical-align: top;\n",
       "    }\n",
       "\n",
       "    .dataframe thead th {\n",
       "        text-align: right;\n",
       "    }\n",
       "</style>\n",
       "<table border=\"1\" class=\"dataframe\">\n",
       "  <thead>\n",
       "    <tr style=\"text-align: right;\">\n",
       "      <th></th>\n",
       "      <th>Total</th>\n",
       "      <th>East</th>\n",
       "      <th>West</th>\n",
       "    </tr>\n",
       "  </thead>\n",
       "  <tbody>\n",
       "    <tr>\n",
       "      <th>00:00:00</th>\n",
       "      <td>11.825919</td>\n",
       "      <td>5.031335</td>\n",
       "      <td>6.794584</td>\n",
       "    </tr>\n",
       "    <tr>\n",
       "      <th>01:00:00</th>\n",
       "      <td>6.260735</td>\n",
       "      <td>2.815474</td>\n",
       "      <td>3.445261</td>\n",
       "    </tr>\n",
       "    <tr>\n",
       "      <th>02:00:00</th>\n",
       "      <td>4.121753</td>\n",
       "      <td>1.997286</td>\n",
       "      <td>2.124467</td>\n",
       "    </tr>\n",
       "    <tr>\n",
       "      <th>03:00:00</th>\n",
       "      <td>3.040232</td>\n",
       "      <td>1.571373</td>\n",
       "      <td>1.468859</td>\n",
       "    </tr>\n",
       "    <tr>\n",
       "      <th>04:00:00</th>\n",
       "      <td>6.690522</td>\n",
       "      <td>3.541586</td>\n",
       "      <td>3.148936</td>\n",
       "    </tr>\n",
       "    <tr>\n",
       "      <th>05:00:00</th>\n",
       "      <td>26.415861</td>\n",
       "      <td>16.316828</td>\n",
       "      <td>10.099033</td>\n",
       "    </tr>\n",
       "    <tr>\n",
       "      <th>06:00:00</th>\n",
       "      <td>92.538104</td>\n",
       "      <td>56.335010</td>\n",
       "      <td>36.203095</td>\n",
       "    </tr>\n",
       "    <tr>\n",
       "      <th>07:00:00</th>\n",
       "      <td>233.848356</td>\n",
       "      <td>147.330368</td>\n",
       "      <td>86.517988</td>\n",
       "    </tr>\n",
       "    <tr>\n",
       "      <th>08:00:00</th>\n",
       "      <td>331.204255</td>\n",
       "      <td>198.531141</td>\n",
       "      <td>132.673114</td>\n",
       "    </tr>\n",
       "    <tr>\n",
       "      <th>09:00:00</th>\n",
       "      <td>193.226006</td>\n",
       "      <td>106.626161</td>\n",
       "      <td>86.599845</td>\n",
       "    </tr>\n",
       "    <tr>\n",
       "      <th>10:00:00</th>\n",
       "      <td>101.040635</td>\n",
       "      <td>53.543344</td>\n",
       "      <td>47.497291</td>\n",
       "    </tr>\n",
       "    <tr>\n",
       "      <th>11:00:00</th>\n",
       "      <td>88.817724</td>\n",
       "      <td>46.417570</td>\n",
       "      <td>42.400155</td>\n",
       "    </tr>\n",
       "    <tr>\n",
       "      <th>12:00:00</th>\n",
       "      <td>93.919892</td>\n",
       "      <td>48.071981</td>\n",
       "      <td>45.847910</td>\n",
       "    </tr>\n",
       "    <tr>\n",
       "      <th>13:00:00</th>\n",
       "      <td>100.191103</td>\n",
       "      <td>50.348549</td>\n",
       "      <td>49.842553</td>\n",
       "    </tr>\n",
       "    <tr>\n",
       "      <th>14:00:00</th>\n",
       "      <td>108.778723</td>\n",
       "      <td>52.342360</td>\n",
       "      <td>56.436364</td>\n",
       "    </tr>\n",
       "    <tr>\n",
       "      <th>15:00:00</th>\n",
       "      <td>138.849903</td>\n",
       "      <td>61.858027</td>\n",
       "      <td>76.991876</td>\n",
       "    </tr>\n",
       "    <tr>\n",
       "      <th>16:00:00</th>\n",
       "      <td>232.570986</td>\n",
       "      <td>83.700193</td>\n",
       "      <td>148.870793</td>\n",
       "    </tr>\n",
       "    <tr>\n",
       "      <th>17:00:00</th>\n",
       "      <td>396.254932</td>\n",
       "      <td>114.738491</td>\n",
       "      <td>281.516441</td>\n",
       "    </tr>\n",
       "    <tr>\n",
       "      <th>18:00:00</th>\n",
       "      <td>270.193037</td>\n",
       "      <td>91.553965</td>\n",
       "      <td>178.639072</td>\n",
       "    </tr>\n",
       "    <tr>\n",
       "      <th>19:00:00</th>\n",
       "      <td>132.472727</td>\n",
       "      <td>50.398453</td>\n",
       "      <td>82.074275</td>\n",
       "    </tr>\n",
       "    <tr>\n",
       "      <th>20:00:00</th>\n",
       "      <td>76.396132</td>\n",
       "      <td>31.149710</td>\n",
       "      <td>45.246422</td>\n",
       "    </tr>\n",
       "    <tr>\n",
       "      <th>21:00:00</th>\n",
       "      <td>49.072340</td>\n",
       "      <td>21.546615</td>\n",
       "      <td>27.525725</td>\n",
       "    </tr>\n",
       "    <tr>\n",
       "      <th>22:00:00</th>\n",
       "      <td>32.352805</td>\n",
       "      <td>13.977563</td>\n",
       "      <td>18.375242</td>\n",
       "    </tr>\n",
       "    <tr>\n",
       "      <th>23:00:00</th>\n",
       "      <td>21.381431</td>\n",
       "      <td>8.782205</td>\n",
       "      <td>12.599226</td>\n",
       "    </tr>\n",
       "  </tbody>\n",
       "</table>\n",
       "</div>"
      ],
      "text/plain": [
       "               Total        East        West\n",
       "00:00:00   11.825919    5.031335    6.794584\n",
       "01:00:00    6.260735    2.815474    3.445261\n",
       "02:00:00    4.121753    1.997286    2.124467\n",
       "03:00:00    3.040232    1.571373    1.468859\n",
       "04:00:00    6.690522    3.541586    3.148936\n",
       "05:00:00   26.415861   16.316828   10.099033\n",
       "06:00:00   92.538104   56.335010   36.203095\n",
       "07:00:00  233.848356  147.330368   86.517988\n",
       "08:00:00  331.204255  198.531141  132.673114\n",
       "09:00:00  193.226006  106.626161   86.599845\n",
       "10:00:00  101.040635   53.543344   47.497291\n",
       "11:00:00   88.817724   46.417570   42.400155\n",
       "12:00:00   93.919892   48.071981   45.847910\n",
       "13:00:00  100.191103   50.348549   49.842553\n",
       "14:00:00  108.778723   52.342360   56.436364\n",
       "15:00:00  138.849903   61.858027   76.991876\n",
       "16:00:00  232.570986   83.700193  148.870793\n",
       "17:00:00  396.254932  114.738491  281.516441\n",
       "18:00:00  270.193037   91.553965  178.639072\n",
       "19:00:00  132.472727   50.398453   82.074275\n",
       "20:00:00   76.396132   31.149710   45.246422\n",
       "21:00:00   49.072340   21.546615   27.525725\n",
       "22:00:00   32.352805   13.977563   18.375242\n",
       "23:00:00   21.381431    8.782205   12.599226"
      ]
     },
     "execution_count": 13,
     "metadata": {},
     "output_type": "execute_result"
    }
   ],
   "source": [
    "# hourly trend\n",
    "# group the data by hours, notice the index is in just 24 hrs\n",
    "by_time = data.groupby(data.index.time).mean()\n",
    "by_time"
   ]
  },
  {
   "cell_type": "code",
   "execution_count": 14,
   "id": "f5542d6e",
   "metadata": {},
   "outputs": [
    {
     "data": {
      "text/plain": [
       "<AxesSubplot:xlabel='time'>"
      ]
     },
     "execution_count": 14,
     "metadata": {},
     "output_type": "execute_result"
    },
    {
     "data": {
      "image/png": "[encoded data removed]",
      "text/plain": [
       "<Figure size 432x288 with 1 Axes>"
      ]
     },
     "metadata": {
      "needs_background": "light"
     },
     "output_type": "display_data"
    }
   ],
   "source": [
    "hourly_ticks = ['00:00', '4:00', '8:00', '12:00', '16:00', '20:00']\n",
    "by_time.plot(xticks = hourly_ticks, style=[':', '--', '-'])"
   ]
  },
  {
   "cell_type": "code",
   "execution_count": 19,
   "id": "96a56449",
   "metadata": {},
   "outputs": [
    {
     "data": {
      "text/html": [
       "<div>\n",
       "<style scoped>\n",
       "    .dataframe tbody tr th:only-of-type {\n",
       "        vertical-align: middle;\n",
       "    }\n",
       "\n",
       "    .dataframe tbody tr th {\n",
       "        vertical-align: top;\n",
       "    }\n",
       "\n",
       "    .dataframe thead th {\n",
       "        text-align: right;\n",
       "    }\n",
       "</style>\n",
       "<table border=\"1\" class=\"dataframe\">\n",
       "  <thead>\n",
       "    <tr style=\"text-align: right;\">\n",
       "      <th></th>\n",
       "      <th>Total</th>\n",
       "      <th>East</th>\n",
       "      <th>West</th>\n",
       "    </tr>\n",
       "  </thead>\n",
       "  <tbody>\n",
       "    <tr>\n",
       "      <th>Mon</th>\n",
       "      <td>134.137647</td>\n",
       "      <td>60.313008</td>\n",
       "      <td>73.824639</td>\n",
       "    </tr>\n",
       "    <tr>\n",
       "      <th>Tue</th>\n",
       "      <td>143.548904</td>\n",
       "      <td>64.810707</td>\n",
       "      <td>78.738197</td>\n",
       "    </tr>\n",
       "    <tr>\n",
       "      <th>Wed</th>\n",
       "      <td>142.242005</td>\n",
       "      <td>64.227477</td>\n",
       "      <td>78.014527</td>\n",
       "    </tr>\n",
       "    <tr>\n",
       "      <th>Thu</th>\n",
       "      <td>135.136036</td>\n",
       "      <td>61.406982</td>\n",
       "      <td>73.729054</td>\n",
       "    </tr>\n",
       "    <tr>\n",
       "      <th>Fri</th>\n",
       "      <td>121.683533</td>\n",
       "      <td>55.248136</td>\n",
       "      <td>66.435396</td>\n",
       "    </tr>\n",
       "    <tr>\n",
       "      <th>Sat</th>\n",
       "      <td>64.386969</td>\n",
       "      <td>32.511631</td>\n",
       "      <td>31.875339</td>\n",
       "    </tr>\n",
       "    <tr>\n",
       "      <th>Sun</th>\n",
       "      <td>61.289718</td>\n",
       "      <td>31.432994</td>\n",
       "      <td>29.856723</td>\n",
       "    </tr>\n",
       "  </tbody>\n",
       "</table>\n",
       "</div>"
      ],
      "text/plain": [
       "          Total       East       West\n",
       "Mon  134.137647  60.313008  73.824639\n",
       "Tue  143.548904  64.810707  78.738197\n",
       "Wed  142.242005  64.227477  78.014527\n",
       "Thu  135.136036  61.406982  73.729054\n",
       "Fri  121.683533  55.248136  66.435396\n",
       "Sat   64.386969  32.511631  31.875339\n",
       "Sun   61.289718  31.432994  29.856723"
      ]
     },
     "execution_count": 19,
     "metadata": {},
     "output_type": "execute_result"
    }
   ],
   "source": [
    "# weekly trend\n",
    "# dayofweek seems to equal to weekday\n",
    "by_weekday = data.groupby(data.index.dayofweek).mean()\n",
    "by_weekday.index = ['Mon', 'Tue', 'Wed', 'Thu', 'Fri', 'Sat', 'Sun'] # the original index is 0-6\n",
    "by_weekday"
   ]
  },
  {
   "cell_type": "code",
   "execution_count": 23,
   "id": "91f4fa0a",
   "metadata": {},
   "outputs": [
    {
     "data": {
      "text/plain": [
       "<AxesSubplot:>"
      ]
     },
     "execution_count": 23,
     "metadata": {},
     "output_type": "execute_result"
    },
    {
     "data": {
      "image/png": "[encoded data removed]",
      "text/plain": [
       "<Figure size 432x288 with 1 Axes>"
      ]
     },
     "metadata": {
      "needs_background": "light"
     },
     "output_type": "display_data"
    }
   ],
   "source": [
    "by_weekday.plot(style=[':', '--', '-'])"
   ]
  },
  {
   "cell_type": "code",
   "execution_count": 22,
   "id": "8516fa59",
   "metadata": {},
   "outputs": [
    {
     "data": {
      "text/plain": [
       "array(['Weekday', 'Weekday', 'Weekday', ..., 'Weekday', 'Weekday',\n",
       "       'Weekday'], dtype='<U7')"
      ]
     },
     "execution_count": 22,
     "metadata": {},
     "output_type": "execute_result"
    }
   ],
   "source": [
    "# hourly trend on weekdays vs. weekend\n",
    "# Mon. - Sun.: 0-6\n",
    "\n",
    "dayofweek = np.where(data.index.weekday < 5, 'Weekday', 'Weekend') # 0,1,2,3,4 = weekday, 5,6=weekend\n",
    "by_time = data.groupby([dayofweek, data.index.time]).mean()\n",
    "dayofweek"
   ]
  },
  {
   "cell_type": "code",
   "execution_count": 25,
   "id": "3000baf6",
   "metadata": {},
   "outputs": [
    {
     "data": {
      "text/html": [
       "<div>\n",
       "<style scoped>\n",
       "    .dataframe tbody tr th:only-of-type {\n",
       "        vertical-align: middle;\n",
       "    }\n",
       "\n",
       "    .dataframe tbody tr th {\n",
       "        vertical-align: top;\n",
       "    }\n",
       "\n",
       "    .dataframe thead th {\n",
       "        text-align: right;\n",
       "    }\n",
       "</style>\n",
       "<table border=\"1\" class=\"dataframe\">\n",
       "  <thead>\n",
       "    <tr style=\"text-align: right;\">\n",
       "      <th></th>\n",
       "      <th></th>\n",
       "      <th>Total</th>\n",
       "      <th>East</th>\n",
       "      <th>West</th>\n",
       "    </tr>\n",
       "  </thead>\n",
       "  <tbody>\n",
       "    <tr>\n",
       "      <th rowspan=\"24\" valign=\"top\">Weekday</th>\n",
       "      <th>00:00:00</th>\n",
       "      <td>9.893341</td>\n",
       "      <td>4.264754</td>\n",
       "      <td>5.628587</td>\n",
       "    </tr>\n",
       "    <tr>\n",
       "      <th>01:00:00</th>\n",
       "      <td>4.898755</td>\n",
       "      <td>2.219816</td>\n",
       "      <td>2.678939</td>\n",
       "    </tr>\n",
       "    <tr>\n",
       "      <th>02:00:00</th>\n",
       "      <td>3.270168</td>\n",
       "      <td>1.625338</td>\n",
       "      <td>1.644829</td>\n",
       "    </tr>\n",
       "    <tr>\n",
       "      <th>03:00:00</th>\n",
       "      <td>2.807796</td>\n",
       "      <td>1.467244</td>\n",
       "      <td>1.340552</td>\n",
       "    </tr>\n",
       "    <tr>\n",
       "      <th>04:00:00</th>\n",
       "      <td>7.755820</td>\n",
       "      <td>4.295073</td>\n",
       "      <td>3.460747</td>\n",
       "    </tr>\n",
       "    <tr>\n",
       "      <th>05:00:00</th>\n",
       "      <td>33.957769</td>\n",
       "      <td>21.206822</td>\n",
       "      <td>12.750947</td>\n",
       "    </tr>\n",
       "    <tr>\n",
       "      <th>06:00:00</th>\n",
       "      <td>122.571738</td>\n",
       "      <td>75.557661</td>\n",
       "      <td>47.014077</td>\n",
       "    </tr>\n",
       "    <tr>\n",
       "      <th>07:00:00</th>\n",
       "      <td>314.083920</td>\n",
       "      <td>199.309691</td>\n",
       "      <td>114.774228</td>\n",
       "    </tr>\n",
       "    <tr>\n",
       "      <th>08:00:00</th>\n",
       "      <td>439.125068</td>\n",
       "      <td>264.985923</td>\n",
       "      <td>174.139145</td>\n",
       "    </tr>\n",
       "    <tr>\n",
       "      <th>09:00:00</th>\n",
       "      <td>237.332069</td>\n",
       "      <td>131.808234</td>\n",
       "      <td>105.523835</td>\n",
       "    </tr>\n",
       "    <tr>\n",
       "      <th>10:00:00</th>\n",
       "      <td>101.288732</td>\n",
       "      <td>53.465330</td>\n",
       "      <td>47.823402</td>\n",
       "    </tr>\n",
       "    <tr>\n",
       "      <th>11:00:00</th>\n",
       "      <td>76.095341</td>\n",
       "      <td>39.802817</td>\n",
       "      <td>36.292524</td>\n",
       "    </tr>\n",
       "    <tr>\n",
       "      <th>12:00:00</th>\n",
       "      <td>78.340737</td>\n",
       "      <td>39.753521</td>\n",
       "      <td>38.587216</td>\n",
       "    </tr>\n",
       "    <tr>\n",
       "      <th>13:00:00</th>\n",
       "      <td>84.492691</td>\n",
       "      <td>41.872767</td>\n",
       "      <td>42.619924</td>\n",
       "    </tr>\n",
       "    <tr>\n",
       "      <th>14:00:00</th>\n",
       "      <td>95.753113</td>\n",
       "      <td>44.229020</td>\n",
       "      <td>51.524093</td>\n",
       "    </tr>\n",
       "    <tr>\n",
       "      <th>15:00:00</th>\n",
       "      <td>138.646995</td>\n",
       "      <td>58.087168</td>\n",
       "      <td>80.559827</td>\n",
       "    </tr>\n",
       "    <tr>\n",
       "      <th>16:00:00</th>\n",
       "      <td>273.824580</td>\n",
       "      <td>90.811586</td>\n",
       "      <td>183.012994</td>\n",
       "    </tr>\n",
       "    <tr>\n",
       "      <th>17:00:00</th>\n",
       "      <td>511.284786</td>\n",
       "      <td>138.753113</td>\n",
       "      <td>372.531673</td>\n",
       "    </tr>\n",
       "    <tr>\n",
       "      <th>18:00:00</th>\n",
       "      <td>344.508392</td>\n",
       "      <td>111.060097</td>\n",
       "      <td>233.448295</td>\n",
       "    </tr>\n",
       "    <tr>\n",
       "      <th>19:00:00</th>\n",
       "      <td>162.658365</td>\n",
       "      <td>59.277206</td>\n",
       "      <td>103.381159</td>\n",
       "    </tr>\n",
       "    <tr>\n",
       "      <th>20:00:00</th>\n",
       "      <td>90.178668</td>\n",
       "      <td>35.648078</td>\n",
       "      <td>54.530590</td>\n",
       "    </tr>\n",
       "    <tr>\n",
       "      <th>21:00:00</th>\n",
       "      <td>56.740661</td>\n",
       "      <td>24.579859</td>\n",
       "      <td>32.160801</td>\n",
       "    </tr>\n",
       "    <tr>\n",
       "      <th>22:00:00</th>\n",
       "      <td>36.213860</td>\n",
       "      <td>15.482945</td>\n",
       "      <td>20.730915</td>\n",
       "    </tr>\n",
       "    <tr>\n",
       "      <th>23:00:00</th>\n",
       "      <td>22.734164</td>\n",
       "      <td>9.321603</td>\n",
       "      <td>13.412561</td>\n",
       "    </tr>\n",
       "    <tr>\n",
       "      <th rowspan=\"24\" valign=\"top\">Weekend</th>\n",
       "      <th>00:00:00</th>\n",
       "      <td>16.662602</td>\n",
       "      <td>6.949864</td>\n",
       "      <td>9.712737</td>\n",
       "    </tr>\n",
       "    <tr>\n",
       "      <th>01:00:00</th>\n",
       "      <td>9.669377</td>\n",
       "      <td>4.306233</td>\n",
       "      <td>5.363144</td>\n",
       "    </tr>\n",
       "    <tr>\n",
       "      <th>02:00:00</th>\n",
       "      <td>6.270492</td>\n",
       "      <td>2.935792</td>\n",
       "      <td>3.334699</td>\n",
       "    </tr>\n",
       "    <tr>\n",
       "      <th>03:00:00</th>\n",
       "      <td>3.621951</td>\n",
       "      <td>1.831978</td>\n",
       "      <td>1.789973</td>\n",
       "    </tr>\n",
       "    <tr>\n",
       "      <th>04:00:00</th>\n",
       "      <td>4.024390</td>\n",
       "      <td>1.655827</td>\n",
       "      <td>2.368564</td>\n",
       "    </tr>\n",
       "    <tr>\n",
       "      <th>05:00:00</th>\n",
       "      <td>7.540650</td>\n",
       "      <td>4.078591</td>\n",
       "      <td>3.462060</td>\n",
       "    </tr>\n",
       "    <tr>\n",
       "      <th>06:00:00</th>\n",
       "      <td>17.372629</td>\n",
       "      <td>8.226287</td>\n",
       "      <td>9.146341</td>\n",
       "    </tr>\n",
       "    <tr>\n",
       "      <th>07:00:00</th>\n",
       "      <td>33.042005</td>\n",
       "      <td>17.241192</td>\n",
       "      <td>15.800813</td>\n",
       "    </tr>\n",
       "    <tr>\n",
       "      <th>08:00:00</th>\n",
       "      <td>61.109756</td>\n",
       "      <td>32.214092</td>\n",
       "      <td>28.895664</td>\n",
       "    </tr>\n",
       "    <tr>\n",
       "      <th>09:00:00</th>\n",
       "      <td>82.901084</td>\n",
       "      <td>43.636856</td>\n",
       "      <td>39.264228</td>\n",
       "    </tr>\n",
       "    <tr>\n",
       "      <th>10:00:00</th>\n",
       "      <td>100.420054</td>\n",
       "      <td>53.738482</td>\n",
       "      <td>46.681572</td>\n",
       "    </tr>\n",
       "    <tr>\n",
       "      <th>11:00:00</th>\n",
       "      <td>120.640921</td>\n",
       "      <td>62.963415</td>\n",
       "      <td>57.677507</td>\n",
       "    </tr>\n",
       "    <tr>\n",
       "      <th>12:00:00</th>\n",
       "      <td>132.888889</td>\n",
       "      <td>68.879404</td>\n",
       "      <td>64.009485</td>\n",
       "    </tr>\n",
       "    <tr>\n",
       "      <th>13:00:00</th>\n",
       "      <td>139.479675</td>\n",
       "      <td>71.560976</td>\n",
       "      <td>67.918699</td>\n",
       "    </tr>\n",
       "    <tr>\n",
       "      <th>14:00:00</th>\n",
       "      <td>141.378049</td>\n",
       "      <td>72.647696</td>\n",
       "      <td>68.730352</td>\n",
       "    </tr>\n",
       "    <tr>\n",
       "      <th>15:00:00</th>\n",
       "      <td>139.357724</td>\n",
       "      <td>71.295393</td>\n",
       "      <td>68.062331</td>\n",
       "    </tr>\n",
       "    <tr>\n",
       "      <th>16:00:00</th>\n",
       "      <td>129.325203</td>\n",
       "      <td>65.902439</td>\n",
       "      <td>63.422764</td>\n",
       "    </tr>\n",
       "    <tr>\n",
       "      <th>17:00:00</th>\n",
       "      <td>108.368564</td>\n",
       "      <td>54.636856</td>\n",
       "      <td>53.731707</td>\n",
       "    </tr>\n",
       "    <tr>\n",
       "      <th>18:00:00</th>\n",
       "      <td>84.203252</td>\n",
       "      <td>42.735772</td>\n",
       "      <td>41.467480</td>\n",
       "    </tr>\n",
       "    <tr>\n",
       "      <th>19:00:00</th>\n",
       "      <td>56.926829</td>\n",
       "      <td>28.177507</td>\n",
       "      <td>28.749322</td>\n",
       "    </tr>\n",
       "    <tr>\n",
       "      <th>20:00:00</th>\n",
       "      <td>41.902439</td>\n",
       "      <td>19.891599</td>\n",
       "      <td>22.010840</td>\n",
       "    </tr>\n",
       "    <tr>\n",
       "      <th>21:00:00</th>\n",
       "      <td>29.880759</td>\n",
       "      <td>13.955285</td>\n",
       "      <td>15.925474</td>\n",
       "    </tr>\n",
       "    <tr>\n",
       "      <th>22:00:00</th>\n",
       "      <td>22.689702</td>\n",
       "      <td>10.210027</td>\n",
       "      <td>12.479675</td>\n",
       "    </tr>\n",
       "    <tr>\n",
       "      <th>23:00:00</th>\n",
       "      <td>17.995935</td>\n",
       "      <td>7.432249</td>\n",
       "      <td>10.563686</td>\n",
       "    </tr>\n",
       "  </tbody>\n",
       "</table>\n",
       "</div>"
      ],
      "text/plain": [
       "                       Total        East        West\n",
       "Weekday 00:00:00    9.893341    4.264754    5.628587\n",
       "        01:00:00    4.898755    2.219816    2.678939\n",
       "        02:00:00    3.270168    1.625338    1.644829\n",
       "        03:00:00    2.807796    1.467244    1.340552\n",
       "        04:00:00    7.755820    4.295073    3.460747\n",
       "        05:00:00   33.957769   21.206822   12.750947\n",
       "        06:00:00  122.571738   75.557661   47.014077\n",
       "        07:00:00  314.083920  199.309691  114.774228\n",
       "        08:00:00  439.125068  264.985923  174.139145\n",
       "        09:00:00  237.332069  131.808234  105.523835\n",
       "        10:00:00  101.288732   53.465330   47.823402\n",
       "        11:00:00   76.095341   39.802817   36.292524\n",
       "        12:00:00   78.340737   39.753521   38.587216\n",
       "        13:00:00   84.492691   41.872767   42.619924\n",
       "        14:00:00   95.753113   44.229020   51.524093\n",
       "        15:00:00  138.646995   58.087168   80.559827\n",
       "        16:00:00  273.824580   90.811586  183.012994\n",
       "        17:00:00  511.284786  138.753113  372.531673\n",
       "        18:00:00  344.508392  111.060097  233.448295\n",
       "        19:00:00  162.658365   59.277206  103.381159\n",
       "        20:00:00   90.178668   35.648078   54.530590\n",
       "        21:00:00   56.740661   24.579859   32.160801\n",
       "        22:00:00   36.213860   15.482945   20.730915\n",
       "        23:00:00   22.734164    9.321603   13.412561\n",
       "Weekend 00:00:00   16.662602    6.949864    9.712737\n",
       "        01:00:00    9.669377    4.306233    5.363144\n",
       "        02:00:00    6.270492    2.935792    3.334699\n",
       "        03:00:00    3.621951    1.831978    1.789973\n",
       "        04:00:00    4.024390    1.655827    2.368564\n",
       "        05:00:00    7.540650    4.078591    3.462060\n",
       "        06:00:00   17.372629    8.226287    9.146341\n",
       "        07:00:00   33.042005   17.241192   15.800813\n",
       "        08:00:00   61.109756   32.214092   28.895664\n",
       "        09:00:00   82.901084   43.636856   39.264228\n",
       "        10:00:00  100.420054   53.738482   46.681572\n",
       "        11:00:00  120.640921   62.963415   57.677507\n",
       "        12:00:00  132.888889   68.879404   64.009485\n",
       "        13:00:00  139.479675   71.560976   67.918699\n",
       "        14:00:00  141.378049   72.647696   68.730352\n",
       "        15:00:00  139.357724   71.295393   68.062331\n",
       "        16:00:00  129.325203   65.902439   63.422764\n",
       "        17:00:00  108.368564   54.636856   53.731707\n",
       "        18:00:00   84.203252   42.735772   41.467480\n",
       "        19:00:00   56.926829   28.177507   28.749322\n",
       "        20:00:00   41.902439   19.891599   22.010840\n",
       "        21:00:00   29.880759   13.955285   15.925474\n",
       "        22:00:00   22.689702   10.210027   12.479675\n",
       "        23:00:00   17.995935    7.432249   10.563686"
      ]
     },
     "execution_count": 25,
     "metadata": {},
     "output_type": "execute_result"
    }
   ],
   "source": [
    "by_time"
   ]
  },
  {
   "cell_type": "code",
   "execution_count": 29,
   "id": "40f7a518",
   "metadata": {},
   "outputs": [
    {
     "data": {
      "text/plain": [
       "<AxesSubplot:title={'center':'Weekends'}, xlabel='time'>"
      ]
     },
     "execution_count": 29,
     "metadata": {},
     "output_type": "execute_result"
    },
    {
     "data": {
      "image/png": "[encoded data removed]",
      "text/plain": [
       "<Figure size 1008x360 with 2 Axes>"
      ]
     },
     "metadata": {
      "needs_background": "light"
     },
     "output_type": "display_data"
    }
   ],
   "source": [
    "# ploting the two panels side by side\n",
    "\n",
    "# fig: the actual plot, ax: the array object\n",
    "# the code below means we have 1*2 = 2 plots, so we have 2 axes.\n",
    "fig, ax = plt.subplots(1, 2, figsize = (14, 5))\n",
    "hourly_ticks = ['00:00', '4:00', '8:00', '12:00', '16:00', '20:00']\n",
    "by_time.loc['Weekday'].plot(ax=ax[0], title='Weekdays', xticks=hourly_ticks, style=[':', '--', '-'])\n",
    "by_time.loc['Weekend'].plot(ax=ax[1], title='Weekends', xticks=hourly_ticks, style=[':', '--', '-'])"
   ]
  },
  {
   "cell_type": "code",
   "execution_count": 28,
   "id": "d2e5f3ce",
   "metadata": {},
   "outputs": [
    {
     "data": {
      "text/plain": [
       "array([<AxesSubplot:title={'center':'Weekdays'}, xlabel='time'>,\n",
       "       <AxesSubplot:title={'center':'Weekends'}, xlabel='time'>],\n",
       "      dtype=object)"
      ]
     },
     "execution_count": 28,
     "metadata": {},
     "output_type": "execute_result"
    }
   ],
   "source": [
    "ax"
   ]
  },
  {
   "cell_type": "markdown",
   "id": "00462587",
   "metadata": {},
   "source": [
    "# High-performance pandas: eval() and query()"
   ]
  },
  {
   "cell_type": "markdown",
   "id": "fa92f525",
   "metadata": {},
   "source": [
    "- numpy provides vetorized operation\n",
    "- pandas provides efficient grouping-type operation\n",
    "- numexpr library gives the high performance computation and efficient utilization of memory\n",
    "### eval() and query() can be accessed by using pandas or dataframe"
   ]
  },
  {
   "cell_type": "code",
   "execution_count": 23,
   "id": "f9e9e6bd",
   "metadata": {},
   "outputs": [],
   "source": [
    "import numexpr\n",
    "import numpy as np\n",
    "import pandas as pd\n",
    "\n",
    "rng = np.random.RandomState(42)\n",
    "df1, df2, df3, df4, df5 = (pd.DataFrame(rng.randint(0, 1000, (100, 3))) for i in range(5))"
   ]
  },
  {
   "cell_type": "markdown",
   "id": "5cfa944d",
   "metadata": {},
   "source": [
    "## eval(): arithmatic, comparison, bitwise, boolean"
   ]
  },
  {
   "cell_type": "code",
   "execution_count": 5,
   "id": "91ff55ae",
   "metadata": {},
   "outputs": [
    {
     "data": {
      "text/plain": [
       "True"
      ]
     },
     "execution_count": 5,
     "metadata": {},
     "output_type": "execute_result"
    }
   ],
   "source": [
    "# arithmatic\n",
    "result1 = -df1 * df2 / (df3 + df4) - df5\n",
    "result2 = pd.eval('-df1 * df2 / (df3 + df4) - df5')\n",
    "np.allclose(result1, result2) # returns True if two arrays are element wise equivalent"
   ]
  },
  {
   "cell_type": "code",
   "execution_count": 8,
   "id": "2fe20bd6",
   "metadata": {},
   "outputs": [
    {
     "data": {
      "text/html": [
       "<div>\n",
       "<style scoped>\n",
       "    .dataframe tbody tr th:only-of-type {\n",
       "        vertical-align: middle;\n",
       "    }\n",
       "\n",
       "    .dataframe tbody tr th {\n",
       "        vertical-align: top;\n",
       "    }\n",
       "\n",
       "    .dataframe thead th {\n",
       "        text-align: right;\n",
       "    }\n",
       "</style>\n",
       "<table border=\"1\" class=\"dataframe\">\n",
       "  <thead>\n",
       "    <tr style=\"text-align: right;\">\n",
       "      <th></th>\n",
       "      <th>0</th>\n",
       "      <th>1</th>\n",
       "      <th>2</th>\n",
       "    </tr>\n",
       "  </thead>\n",
       "  <tbody>\n",
       "    <tr>\n",
       "      <th>0</th>\n",
       "      <td>-108.442651</td>\n",
       "      <td>-757.153846</td>\n",
       "      <td>-527.111111</td>\n",
       "    </tr>\n",
       "    <tr>\n",
       "      <th>1</th>\n",
       "      <td>-937.753036</td>\n",
       "      <td>-834.865477</td>\n",
       "      <td>-276.115007</td>\n",
       "    </tr>\n",
       "    <tr>\n",
       "      <th>2</th>\n",
       "      <td>-118.585366</td>\n",
       "      <td>-625.882716</td>\n",
       "      <td>-1101.249042</td>\n",
       "    </tr>\n",
       "    <tr>\n",
       "      <th>3</th>\n",
       "      <td>-304.602724</td>\n",
       "      <td>-841.704194</td>\n",
       "      <td>-948.525097</td>\n",
       "    </tr>\n",
       "    <tr>\n",
       "      <th>4</th>\n",
       "      <td>-916.432071</td>\n",
       "      <td>-914.616963</td>\n",
       "      <td>-95.017372</td>\n",
       "    </tr>\n",
       "    <tr>\n",
       "      <th>...</th>\n",
       "      <td>...</td>\n",
       "      <td>...</td>\n",
       "      <td>...</td>\n",
       "    </tr>\n",
       "    <tr>\n",
       "      <th>95</th>\n",
       "      <td>-402.871056</td>\n",
       "      <td>-1002.797571</td>\n",
       "      <td>-884.578080</td>\n",
       "    </tr>\n",
       "    <tr>\n",
       "      <th>96</th>\n",
       "      <td>-1400.280949</td>\n",
       "      <td>-7507.069767</td>\n",
       "      <td>-667.576446</td>\n",
       "    </tr>\n",
       "    <tr>\n",
       "      <th>97</th>\n",
       "      <td>-397.932227</td>\n",
       "      <td>-802.413174</td>\n",
       "      <td>-989.474684</td>\n",
       "    </tr>\n",
       "    <tr>\n",
       "      <th>98</th>\n",
       "      <td>-886.397471</td>\n",
       "      <td>-538.650502</td>\n",
       "      <td>-669.174924</td>\n",
       "    </tr>\n",
       "    <tr>\n",
       "      <th>99</th>\n",
       "      <td>-2128.719198</td>\n",
       "      <td>-1836.000000</td>\n",
       "      <td>-161.311321</td>\n",
       "    </tr>\n",
       "  </tbody>\n",
       "</table>\n",
       "<p>100 rows × 3 columns</p>\n",
       "</div>"
      ],
      "text/plain": [
       "              0            1            2\n",
       "0   -108.442651  -757.153846  -527.111111\n",
       "1   -937.753036  -834.865477  -276.115007\n",
       "2   -118.585366  -625.882716 -1101.249042\n",
       "3   -304.602724  -841.704194  -948.525097\n",
       "4   -916.432071  -914.616963   -95.017372\n",
       "..          ...          ...          ...\n",
       "95  -402.871056 -1002.797571  -884.578080\n",
       "96 -1400.280949 -7507.069767  -667.576446\n",
       "97  -397.932227  -802.413174  -989.474684\n",
       "98  -886.397471  -538.650502  -669.174924\n",
       "99 -2128.719198 -1836.000000  -161.311321\n",
       "\n",
       "[100 rows x 3 columns]"
      ]
     },
     "metadata": {},
     "output_type": "display_data"
    },
    {
     "data": {
      "text/html": [
       "<div>\n",
       "<style scoped>\n",
       "    .dataframe tbody tr th:only-of-type {\n",
       "        vertical-align: middle;\n",
       "    }\n",
       "\n",
       "    .dataframe tbody tr th {\n",
       "        vertical-align: top;\n",
       "    }\n",
       "\n",
       "    .dataframe thead th {\n",
       "        text-align: right;\n",
       "    }\n",
       "</style>\n",
       "<table border=\"1\" class=\"dataframe\">\n",
       "  <thead>\n",
       "    <tr style=\"text-align: right;\">\n",
       "      <th></th>\n",
       "      <th>0</th>\n",
       "      <th>1</th>\n",
       "      <th>2</th>\n",
       "    </tr>\n",
       "  </thead>\n",
       "  <tbody>\n",
       "    <tr>\n",
       "      <th>0</th>\n",
       "      <td>-108.442651</td>\n",
       "      <td>-757.153846</td>\n",
       "      <td>-527.111111</td>\n",
       "    </tr>\n",
       "    <tr>\n",
       "      <th>1</th>\n",
       "      <td>-937.753036</td>\n",
       "      <td>-834.865477</td>\n",
       "      <td>-276.115007</td>\n",
       "    </tr>\n",
       "    <tr>\n",
       "      <th>2</th>\n",
       "      <td>-118.585366</td>\n",
       "      <td>-625.882716</td>\n",
       "      <td>-1101.249042</td>\n",
       "    </tr>\n",
       "    <tr>\n",
       "      <th>3</th>\n",
       "      <td>-304.602724</td>\n",
       "      <td>-841.704194</td>\n",
       "      <td>-948.525097</td>\n",
       "    </tr>\n",
       "    <tr>\n",
       "      <th>4</th>\n",
       "      <td>-916.432071</td>\n",
       "      <td>-914.616963</td>\n",
       "      <td>-95.017372</td>\n",
       "    </tr>\n",
       "    <tr>\n",
       "      <th>...</th>\n",
       "      <td>...</td>\n",
       "      <td>...</td>\n",
       "      <td>...</td>\n",
       "    </tr>\n",
       "    <tr>\n",
       "      <th>95</th>\n",
       "      <td>-402.871056</td>\n",
       "      <td>-1002.797571</td>\n",
       "      <td>-884.578080</td>\n",
       "    </tr>\n",
       "    <tr>\n",
       "      <th>96</th>\n",
       "      <td>-1400.280949</td>\n",
       "      <td>-7507.069767</td>\n",
       "      <td>-667.576446</td>\n",
       "    </tr>\n",
       "    <tr>\n",
       "      <th>97</th>\n",
       "      <td>-397.932227</td>\n",
       "      <td>-802.413174</td>\n",
       "      <td>-989.474684</td>\n",
       "    </tr>\n",
       "    <tr>\n",
       "      <th>98</th>\n",
       "      <td>-886.397471</td>\n",
       "      <td>-538.650502</td>\n",
       "      <td>-669.174924</td>\n",
       "    </tr>\n",
       "    <tr>\n",
       "      <th>99</th>\n",
       "      <td>-2128.719198</td>\n",
       "      <td>-1836.000000</td>\n",
       "      <td>-161.311321</td>\n",
       "    </tr>\n",
       "  </tbody>\n",
       "</table>\n",
       "<p>100 rows × 3 columns</p>\n",
       "</div>"
      ],
      "text/plain": [
       "              0            1            2\n",
       "0   -108.442651  -757.153846  -527.111111\n",
       "1   -937.753036  -834.865477  -276.115007\n",
       "2   -118.585366  -625.882716 -1101.249042\n",
       "3   -304.602724  -841.704194  -948.525097\n",
       "4   -916.432071  -914.616963   -95.017372\n",
       "..          ...          ...          ...\n",
       "95  -402.871056 -1002.797571  -884.578080\n",
       "96 -1400.280949 -7507.069767  -667.576446\n",
       "97  -397.932227  -802.413174  -989.474684\n",
       "98  -886.397471  -538.650502  -669.174924\n",
       "99 -2128.719198 -1836.000000  -161.311321\n",
       "\n",
       "[100 rows x 3 columns]"
      ]
     },
     "metadata": {},
     "output_type": "display_data"
    }
   ],
   "source": [
    "# result1 and result2 are the same df\n",
    "display(result1, result2)"
   ]
  },
  {
   "cell_type": "code",
   "execution_count": 11,
   "id": "69d0bc6f",
   "metadata": {},
   "outputs": [
    {
     "name": "stdout",
     "output_type": "stream",
     "text": [
      "321 µs ± 19.9 µs per loop (mean ± std. dev. of 7 runs, 1,000 loops each)\n",
      "2.24 ms ± 93.9 µs per loop (mean ± std. dev. of 7 runs, 100 loops each)\n"
     ]
    }
   ],
   "source": [
    "%timeit df1 + df2 + df3 + df4\n",
    "%timeit pd.eval('df1 + df2 + df3 + df4')\n",
    "# why do we use pd.eval()? because it is more efficient!"
   ]
  },
  {
   "cell_type": "code",
   "execution_count": 32,
   "id": "e3a21548",
   "metadata": {},
   "outputs": [
    {
     "data": {
      "text/plain": [
       "True"
      ]
     },
     "execution_count": 32,
     "metadata": {},
     "output_type": "execute_result"
    }
   ],
   "source": [
    "# comparison operation\n",
    "result1 = (df1 < df2) & (df2 <= df3) & (df3 != df3)\n",
    "result2 = pd.eval('df1 < df2 <= df3 != df3') # the statement here is shorter and simpler than result1.\n",
    "np.allclose(result1, result2)"
   ]
  },
  {
   "cell_type": "code",
   "execution_count": 33,
   "id": "468df196",
   "metadata": {},
   "outputs": [
    {
     "data": {
      "text/plain": [
       "True"
      ]
     },
     "execution_count": 33,
     "metadata": {},
     "output_type": "execute_result"
    }
   ],
   "source": [
    "# bitwise operation\n",
    "result1 = (df1 < 0.5) & (df2 < 0.5) | (df3 < df4)\n",
    "result2 = pd.eval('(df1 < 0.5) & (df2 < 0.5) | (df3 < df4)')\n",
    "np.allclose(result1, result2)"
   ]
  },
  {
   "cell_type": "code",
   "execution_count": 34,
   "id": "de670940",
   "metadata": {},
   "outputs": [
    {
     "data": {
      "text/plain": [
       "True"
      ]
     },
     "execution_count": 34,
     "metadata": {},
     "output_type": "execute_result"
    }
   ],
   "source": [
    "# boolean expression\n",
    "result3 = pd.eval('(df1 < 0.5) and (df3 < 0.5) or (df3 < df4)') \n",
    "np.allclose(result1, result3)"
   ]
  },
  {
   "cell_type": "code",
   "execution_count": 35,
   "id": "34a01327",
   "metadata": {},
   "outputs": [
    {
     "data": {
      "text/plain": [
       "True"
      ]
     },
     "execution_count": 35,
     "metadata": {},
     "output_type": "execute_result"
    }
   ],
   "source": [
    "# object attributes and indices\n",
    "result1 = df2.T[0] + df3.iloc[1]\n",
    "result2 = pd.eval('df2.T[0] + df3.iloc[1]')\n",
    "np.allclose(result1, result2)"
   ]
  },
  {
   "cell_type": "code",
   "execution_count": 40,
   "id": "9ceb2fc8",
   "metadata": {},
   "outputs": [
    {
     "data": {
      "text/html": [
       "<div>\n",
       "<style scoped>\n",
       "    .dataframe tbody tr th:only-of-type {\n",
       "        vertical-align: middle;\n",
       "    }\n",
       "\n",
       "    .dataframe tbody tr th {\n",
       "        vertical-align: top;\n",
       "    }\n",
       "\n",
       "    .dataframe thead th {\n",
       "        text-align: right;\n",
       "    }\n",
       "</style>\n",
       "<table border=\"1\" class=\"dataframe\">\n",
       "  <thead>\n",
       "    <tr style=\"text-align: right;\">\n",
       "      <th></th>\n",
       "      <th>0</th>\n",
       "      <th>1</th>\n",
       "      <th>2</th>\n",
       "      <th>3</th>\n",
       "      <th>4</th>\n",
       "      <th>5</th>\n",
       "      <th>6</th>\n",
       "      <th>7</th>\n",
       "      <th>8</th>\n",
       "      <th>9</th>\n",
       "      <th>...</th>\n",
       "      <th>90</th>\n",
       "      <th>91</th>\n",
       "      <th>92</th>\n",
       "      <th>93</th>\n",
       "      <th>94</th>\n",
       "      <th>95</th>\n",
       "      <th>96</th>\n",
       "      <th>97</th>\n",
       "      <th>98</th>\n",
       "      <th>99</th>\n",
       "    </tr>\n",
       "  </thead>\n",
       "  <tbody>\n",
       "    <tr>\n",
       "      <th>0</th>\n",
       "      <td>709</td>\n",
       "      <td>835</td>\n",
       "      <td>183</td>\n",
       "      <td>766</td>\n",
       "      <td>836</td>\n",
       "      <td>197</td>\n",
       "      <td>510</td>\n",
       "      <td>608</td>\n",
       "      <td>186</td>\n",
       "      <td>348</td>\n",
       "      <td>...</td>\n",
       "      <td>53</td>\n",
       "      <td>992</td>\n",
       "      <td>571</td>\n",
       "      <td>102</td>\n",
       "      <td>876</td>\n",
       "      <td>349</td>\n",
       "      <td>822</td>\n",
       "      <td>655</td>\n",
       "      <td>635</td>\n",
       "      <td>658</td>\n",
       "    </tr>\n",
       "    <tr>\n",
       "      <th>1</th>\n",
       "      <td>415</td>\n",
       "      <td>438</td>\n",
       "      <td>122</td>\n",
       "      <td>293</td>\n",
       "      <td>883</td>\n",
       "      <td>981</td>\n",
       "      <td>751</td>\n",
       "      <td>200</td>\n",
       "      <td>325</td>\n",
       "      <td>770</td>\n",
       "      <td>...</td>\n",
       "      <td>443</td>\n",
       "      <td>263</td>\n",
       "      <td>619</td>\n",
       "      <td>195</td>\n",
       "      <td>991</td>\n",
       "      <td>46</td>\n",
       "      <td>935</td>\n",
       "      <td>268</td>\n",
       "      <td>105</td>\n",
       "      <td>656</td>\n",
       "    </tr>\n",
       "    <tr>\n",
       "      <th>2</th>\n",
       "      <td>246</td>\n",
       "      <td>202</td>\n",
       "      <td>400</td>\n",
       "      <td>279</td>\n",
       "      <td>609</td>\n",
       "      <td>906</td>\n",
       "      <td>143</td>\n",
       "      <td>123</td>\n",
       "      <td>463</td>\n",
       "      <td>659</td>\n",
       "      <td>...</td>\n",
       "      <td>612</td>\n",
       "      <td>52</td>\n",
       "      <td>4</td>\n",
       "      <td>773</td>\n",
       "      <td>883</td>\n",
       "      <td>866</td>\n",
       "      <td>819</td>\n",
       "      <td>369</td>\n",
       "      <td>669</td>\n",
       "      <td>119</td>\n",
       "    </tr>\n",
       "  </tbody>\n",
       "</table>\n",
       "<p>3 rows × 100 columns</p>\n",
       "</div>"
      ],
      "text/plain": [
       "    0    1    2    3    4    5    6    7    8    9   ...   90   91   92   93  \\\n",
       "0  709  835  183  766  836  197  510  608  186  348  ...   53  992  571  102   \n",
       "1  415  438  122  293  883  981  751  200  325  770  ...  443  263  619  195   \n",
       "2  246  202  400  279  609  906  143  123  463  659  ...  612   52    4  773   \n",
       "\n",
       "    94   95   96   97   98   99  \n",
       "0  876  349  822  655  635  658  \n",
       "1  991   46  935  268  105  656  \n",
       "2  883  866  819  369  669  119  \n",
       "\n",
       "[3 rows x 100 columns]"
      ]
     },
     "execution_count": 40,
     "metadata": {},
     "output_type": "execute_result"
    }
   ],
   "source": [
    "df2.T"
   ]
  },
  {
   "cell_type": "code",
   "execution_count": 41,
   "id": "88b507a0",
   "metadata": {},
   "outputs": [
    {
     "data": {
      "text/plain": [
       "0    709\n",
       "1    415\n",
       "2    246\n",
       "Name: 0, dtype: int32"
      ]
     },
     "execution_count": 41,
     "metadata": {},
     "output_type": "execute_result"
    }
   ],
   "source": [
    "df2.T[0] # the first column of transpose of df2"
   ]
  },
  {
   "cell_type": "code",
   "execution_count": 43,
   "id": "3a3d46c6",
   "metadata": {},
   "outputs": [
    {
     "data": {
      "text/plain": [
       "0     57\n",
       "1    950\n",
       "2    345\n",
       "Name: 1, dtype: int32"
      ]
     },
     "execution_count": 43,
     "metadata": {},
     "output_type": "execute_result"
    }
   ],
   "source": [
    "df3.iloc[1] # the first row of df3"
   ]
  },
  {
   "cell_type": "markdown",
   "id": "6a5e2332",
   "metadata": {},
   "source": [
    "# DataFrame.eval() for column-wise operation"
   ]
  },
  {
   "cell_type": "code",
   "execution_count": 13,
   "id": "19d2dc61",
   "metadata": {},
   "outputs": [
    {
     "data": {
      "text/html": [
       "<div>\n",
       "<style scoped>\n",
       "    .dataframe tbody tr th:only-of-type {\n",
       "        vertical-align: middle;\n",
       "    }\n",
       "\n",
       "    .dataframe tbody tr th {\n",
       "        vertical-align: top;\n",
       "    }\n",
       "\n",
       "    .dataframe thead th {\n",
       "        text-align: right;\n",
       "    }\n",
       "</style>\n",
       "<table border=\"1\" class=\"dataframe\">\n",
       "  <thead>\n",
       "    <tr style=\"text-align: right;\">\n",
       "      <th></th>\n",
       "      <th>a</th>\n",
       "      <th>b</th>\n",
       "      <th>c</th>\n",
       "    </tr>\n",
       "  </thead>\n",
       "  <tbody>\n",
       "    <tr>\n",
       "      <th>0</th>\n",
       "      <td>0.821257</td>\n",
       "      <td>0.110632</td>\n",
       "      <td>0.846452</td>\n",
       "    </tr>\n",
       "    <tr>\n",
       "      <th>1</th>\n",
       "      <td>0.127489</td>\n",
       "      <td>0.397287</td>\n",
       "      <td>0.797295</td>\n",
       "    </tr>\n",
       "    <tr>\n",
       "      <th>2</th>\n",
       "      <td>0.149917</td>\n",
       "      <td>0.229251</td>\n",
       "      <td>0.722253</td>\n",
       "    </tr>\n",
       "    <tr>\n",
       "      <th>3</th>\n",
       "      <td>0.720037</td>\n",
       "      <td>0.641148</td>\n",
       "      <td>0.693948</td>\n",
       "    </tr>\n",
       "    <tr>\n",
       "      <th>4</th>\n",
       "      <td>0.542724</td>\n",
       "      <td>0.251799</td>\n",
       "      <td>0.345696</td>\n",
       "    </tr>\n",
       "    <tr>\n",
       "      <th>...</th>\n",
       "      <td>...</td>\n",
       "      <td>...</td>\n",
       "      <td>...</td>\n",
       "    </tr>\n",
       "    <tr>\n",
       "      <th>995</th>\n",
       "      <td>0.271633</td>\n",
       "      <td>0.190610</td>\n",
       "      <td>0.184632</td>\n",
       "    </tr>\n",
       "    <tr>\n",
       "      <th>996</th>\n",
       "      <td>0.342108</td>\n",
       "      <td>0.429958</td>\n",
       "      <td>0.830949</td>\n",
       "    </tr>\n",
       "    <tr>\n",
       "      <th>997</th>\n",
       "      <td>0.119891</td>\n",
       "      <td>0.734926</td>\n",
       "      <td>0.531455</td>\n",
       "    </tr>\n",
       "    <tr>\n",
       "      <th>998</th>\n",
       "      <td>0.287945</td>\n",
       "      <td>0.492820</td>\n",
       "      <td>0.299942</td>\n",
       "    </tr>\n",
       "    <tr>\n",
       "      <th>999</th>\n",
       "      <td>0.596082</td>\n",
       "      <td>0.433844</td>\n",
       "      <td>0.164406</td>\n",
       "    </tr>\n",
       "  </tbody>\n",
       "</table>\n",
       "<p>1000 rows × 3 columns</p>\n",
       "</div>"
      ],
      "text/plain": [
       "            a         b         c\n",
       "0    0.821257  0.110632  0.846452\n",
       "1    0.127489  0.397287  0.797295\n",
       "2    0.149917  0.229251  0.722253\n",
       "3    0.720037  0.641148  0.693948\n",
       "4    0.542724  0.251799  0.345696\n",
       "..        ...       ...       ...\n",
       "995  0.271633  0.190610  0.184632\n",
       "996  0.342108  0.429958  0.830949\n",
       "997  0.119891  0.734926  0.531455\n",
       "998  0.287945  0.492820  0.299942\n",
       "999  0.596082  0.433844  0.164406\n",
       "\n",
       "[1000 rows x 3 columns]"
      ]
     },
     "execution_count": 13,
     "metadata": {},
     "output_type": "execute_result"
    }
   ],
   "source": [
    "# the benefit of using dataframe eval() method is that we can call columns by their names\n",
    "df = pd.DataFrame(rng.rand(1000, 3), columns=['a','b','c'])\n",
    "df\n",
    "\n",
    "# rand(): 0-1\n",
    "# randn(): includes negative\n",
    "# randint(): integer"
   ]
  },
  {
   "cell_type": "code",
   "execution_count": 14,
   "id": "a4084afc",
   "metadata": {},
   "outputs": [
    {
     "data": {
      "text/plain": [
       "True"
      ]
     },
     "execution_count": 14,
     "metadata": {},
     "output_type": "execute_result"
    }
   ],
   "source": [
    "result1 = ((df['a'] + df['b']) / (df['c'] - 1))\n",
    "result2 = df.eval('(a + b) / (c - 1)')\n",
    "np.allclose(result1, result2)"
   ]
  },
  {
   "cell_type": "code",
   "execution_count": 15,
   "id": "20ef3b9c",
   "metadata": {},
   "outputs": [
    {
     "data": {
      "text/html": [
       "<div>\n",
       "<style scoped>\n",
       "    .dataframe tbody tr th:only-of-type {\n",
       "        vertical-align: middle;\n",
       "    }\n",
       "\n",
       "    .dataframe tbody tr th {\n",
       "        vertical-align: top;\n",
       "    }\n",
       "\n",
       "    .dataframe thead th {\n",
       "        text-align: right;\n",
       "    }\n",
       "</style>\n",
       "<table border=\"1\" class=\"dataframe\">\n",
       "  <thead>\n",
       "    <tr style=\"text-align: right;\">\n",
       "      <th></th>\n",
       "      <th>a</th>\n",
       "      <th>b</th>\n",
       "      <th>c</th>\n",
       "      <th>d</th>\n",
       "    </tr>\n",
       "  </thead>\n",
       "  <tbody>\n",
       "    <tr>\n",
       "      <th>0</th>\n",
       "      <td>0.821257</td>\n",
       "      <td>0.110632</td>\n",
       "      <td>0.846452</td>\n",
       "      <td>1.100935</td>\n",
       "    </tr>\n",
       "    <tr>\n",
       "      <th>1</th>\n",
       "      <td>0.127489</td>\n",
       "      <td>0.397287</td>\n",
       "      <td>0.797295</td>\n",
       "      <td>0.658195</td>\n",
       "    </tr>\n",
       "    <tr>\n",
       "      <th>2</th>\n",
       "      <td>0.149917</td>\n",
       "      <td>0.229251</td>\n",
       "      <td>0.722253</td>\n",
       "      <td>0.524981</td>\n",
       "    </tr>\n",
       "    <tr>\n",
       "      <th>3</th>\n",
       "      <td>0.720037</td>\n",
       "      <td>0.641148</td>\n",
       "      <td>0.693948</td>\n",
       "      <td>1.961506</td>\n",
       "    </tr>\n",
       "    <tr>\n",
       "      <th>4</th>\n",
       "      <td>0.542724</td>\n",
       "      <td>0.251799</td>\n",
       "      <td>0.345696</td>\n",
       "      <td>2.298330</td>\n",
       "    </tr>\n",
       "  </tbody>\n",
       "</table>\n",
       "</div>"
      ],
      "text/plain": [
       "          a         b         c         d\n",
       "0  0.821257  0.110632  0.846452  1.100935\n",
       "1  0.127489  0.397287  0.797295  0.658195\n",
       "2  0.149917  0.229251  0.722253  0.524981\n",
       "3  0.720037  0.641148  0.693948  1.961506\n",
       "4  0.542724  0.251799  0.345696  2.298330"
      ]
     },
     "execution_count": 15,
     "metadata": {},
     "output_type": "execute_result"
    }
   ],
   "source": [
    "# it's such a magic that we can assign value to the df by using names of columns...\n",
    "df.eval('d = (a + b) / c', inplace=True)\n",
    "df.head()"
   ]
  },
  {
   "cell_type": "code",
   "execution_count": 16,
   "id": "c95306ec",
   "metadata": {},
   "outputs": [
    {
     "data": {
      "text/plain": [
       "True"
      ]
     },
     "execution_count": 16,
     "metadata": {},
     "output_type": "execute_result"
    }
   ],
   "source": [
    "column_mean = df.mean(1) # we don't have to specify axis=1\n",
    "result1 = df['a'] + column_mean\n",
    "result2 = df.eval('a + @column_mean')\n",
    "np.allclose(result1, result2)\n",
    "\n",
    "# we can access local variables in dataframe\n",
    "# but this method is not feasible in pd.eval, so we use @ "
   ]
  },
  {
   "cell_type": "markdown",
   "id": "7cab7394",
   "metadata": {},
   "source": [
    "# DataFrame.query()\n",
    "- filter"
   ]
  },
  {
   "cell_type": "code",
   "execution_count": 18,
   "id": "c5cce601",
   "metadata": {},
   "outputs": [
    {
     "data": {
      "text/plain": [
       "True"
      ]
     },
     "execution_count": 18,
     "metadata": {},
     "output_type": "execute_result"
    }
   ],
   "source": [
    "# this is an expression involving columns of the DataFrame and it cannot be expressed using the DataFrame.eval() syntax, \n",
    "# however! Instead, for this type of filtering operation, you can use the query() method\n",
    "\n",
    "result1 = df[(df.a < 0.5) & (df.b < 0.5)]\n",
    "result2 = df.query('a < 0.5 and b < 0.5')\n",
    "np.allclose(result1, result2)"
   ]
  },
  {
   "cell_type": "code",
   "execution_count": 56,
   "id": "41ed4d01",
   "metadata": {},
   "outputs": [
    {
     "data": {
      "text/plain": [
       "True"
      ]
     },
     "execution_count": 56,
     "metadata": {},
     "output_type": "execute_result"
    }
   ],
   "source": [
    "mean_c = df['c'].mean()\n",
    "result1 = df[(df.a < mean_c) & (df.b < mean_c)]\n",
    "result2 = df.query('a < @mean_c and b < @mean_c')\n",
    "np.allclose(result1, result2)"
   ]
  },
  {
   "cell_type": "markdown",
   "id": "d77a5eee",
   "metadata": {},
   "source": [
    "# back to matplotlib"
   ]
  },
  {
   "cell_type": "code",
   "execution_count": 21,
   "id": "9b08828b",
   "metadata": {},
   "outputs": [],
   "source": [
    "%matplotlib notebook"
   ]
  },
  {
   "cell_type": "code",
   "execution_count": 59,
   "id": "1a4ee039",
   "metadata": {},
   "outputs": [],
   "source": [
    "%matplotlib inline"
   ]
  },
  {
   "cell_type": "code",
   "execution_count": 17,
   "id": "809d42cd",
   "metadata": {},
   "outputs": [
    {
     "data": {
      "text/plain": [
       "array([0, 1, 2, 3, 4, 5, 6, 7, 8, 9])"
      ]
     },
     "execution_count": 17,
     "metadata": {},
     "output_type": "execute_result"
    }
   ],
   "source": [
    "# %matplotlib notebook: for interactive plot, optional\n",
    "# %matplotlib inline: for drawing of matplotlib figures, necessary\n",
    "\n",
    "import matplotlib.pyplot as plt\n",
    "data = np.arange(10)\n",
    "data"
   ]
  },
  {
   "cell_type": "code",
   "execution_count": 18,
   "id": "f40f5afe",
   "metadata": {},
   "outputs": [
    {
     "data": {
      "text/plain": [
       "[<matplotlib.lines.Line2D at 0x195a5fc2730>]"
      ]
     },
     "execution_count": 18,
     "metadata": {},
     "output_type": "execute_result"
    },
    {
     "data": {
      "image/png": "[encoded data removed]",
      "text/plain": [
       "<Figure size 432x288 with 1 Axes>"
      ]
     },
     "metadata": {
      "needs_background": "light"
     },
     "output_type": "display_data"
    }
   ],
   "source": [
    "# that's the way I often see...\n",
    "plt.plot(data)"
   ]
  },
  {
   "cell_type": "markdown",
   "id": "b4e6624d",
   "metadata": {},
   "source": [
    "# figures\n",
    "- plots in matplotlib reside within a figure object\n",
    "- we can create a new figure with plt.figure"
   ]
  },
  {
   "cell_type": "code",
   "execution_count": 64,
   "id": "be658a15",
   "metadata": {},
   "outputs": [
    {
     "data": {
      "text/plain": [
       "<Figure size 432x288 with 0 Axes>"
      ]
     },
     "metadata": {},
     "output_type": "display_data"
    }
   ],
   "source": [
    "# creating figure\n",
    "fig = plt.figure()\n",
    "\n",
    "# figure is like a canvas, while ax is the picture?"
   ]
  },
  {
   "cell_type": "code",
   "execution_count": 24,
   "id": "2ca23691",
   "metadata": {},
   "outputs": [
    {
     "data": {
      "text/plain": [
       "[<matplotlib.lines.Line2D at 0x195a6ce3eb0>]"
      ]
     },
     "execution_count": 24,
     "metadata": {},
     "output_type": "execute_result"
    },
    {
     "data": {
      "image/png": "[encoded data removed]",
      "text/plain": [
       "<Figure size 432x288 with 3 Axes>"
      ]
     },
     "metadata": {
      "needs_background": "light"
     },
     "output_type": "display_data"
    }
   ],
   "source": [
    "# we have 2*2 sub-plots\n",
    "fig = plt.figure()\n",
    "ax1 = fig.add_subplot(2, 2, 1) # 2*2 中的第 1 個\n",
    "ax2 = fig.add_subplot(2, 2, 2)\n",
    "ax3 = fig.add_subplot(2, 2, 3)\n",
    "plt.plot(np.random.randn(50).cumsum(), 'g--') # the current axes is 3\n",
    "\n",
    "# cumsum() returns the cumulative sum\n",
    "# randn() may return negative numbers, so the line may not climb always"
   ]
  },
  {
   "cell_type": "code",
   "execution_count": 71,
   "id": "43e49b2d",
   "metadata": {},
   "outputs": [
    {
     "data": {
      "text/plain": [
       "[<matplotlib.lines.Line2D at 0x28f0db74580>]"
      ]
     },
     "execution_count": 71,
     "metadata": {},
     "output_type": "execute_result"
    },
    {
     "data": {
      "image/png": "[encoded data removed]",
      "text/plain": [
       "<Figure size 432x288 with 3 Axes>"
      ]
     },
     "metadata": {
      "needs_background": "light"
     },
     "output_type": "display_data"
    }
   ],
   "source": [
    "fig = plt.figure()\n",
    "ax1 = fig.add_subplot(2, 2, 1)\n",
    "ax2 = fig.add_subplot(2, 2, 2)\n",
    "ax3 = fig.add_subplot(2, 2, 3)\n",
    "\n",
    "ax1.hist(np.random.randn(100), bins=40, color='m', alpha=0.3)\n",
    "ax2.scatter(np.arange(30), np.arange(30) + 3 * np.random.randn(30)) # needs x and y, two values!!!!!!!!!!!!\n",
    "plt.plot(np.random.randn(50).cumsum(), 'g--')"
   ]
  },
  {
   "cell_type": "code",
   "execution_count": 79,
   "id": "228bc99a",
   "metadata": {},
   "outputs": [
    {
     "data": {
      "image/png": "[encoded data removed]",
      "text/plain": [
       "<Figure size 432x288 with 4 Axes>"
      ]
     },
     "metadata": {
      "needs_background": "light"
     },
     "output_type": "display_data"
    }
   ],
   "source": [
    "# adjust the space around sub-plots\n",
    "# notice that it is 'subplots', not 'subplot'\n",
    "fig, axes = plt.subplots(2, 2, sharex=True, sharey=True) # all plots share the same x-axis and y-axis\n",
    "for i in range(2):\n",
    "    for j in range(2):\n",
    "        axes[i, j].hist(np.random.randn(500), bins=50, color='g', alpha=0.5)\n",
    "        \n",
    "plt.subplots_adjust(wspace=0, hspace=0) \n",
    "# xspace is the gap between 2 plots horizontally\n",
    "# yspace is the gap between 2 plots vertically\n",
    "\n",
    "# [0, 0] [0, 1]\n",
    "# [1, 0] [1, 1]"
   ]
  },
  {
   "cell_type": "markdown",
   "id": "91ec3948",
   "metadata": {},
   "source": [
    "# colors, markers and line stylws"
   ]
  },
  {
   "cell_type": "code",
   "execution_count": 26,
   "id": "c3a550b9",
   "metadata": {},
   "outputs": [],
   "source": [
    "from numpy.random import randn"
   ]
  },
  {
   "cell_type": "code",
   "execution_count": 27,
   "id": "8590dbd9",
   "metadata": {},
   "outputs": [
    {
     "data": {
      "text/plain": [
       "[<matplotlib.lines.Line2D at 0x195a6004610>]"
      ]
     },
     "execution_count": 27,
     "metadata": {},
     "output_type": "execute_result"
    },
    {
     "data": {
      "image/png": "[encoded data removed]",
      "text/plain": [
       "<Figure size 432x288 with 1 Axes>"
      ]
     },
     "metadata": {
      "needs_background": "light"
     },
     "output_type": "display_data"
    }
   ],
   "source": [
    "fig = plt.figure()\n",
    "plt.plot(randn(30).cumsum(), linestyle='--', color='g', marker='D')"
   ]
  },
  {
   "cell_type": "code",
   "execution_count": 28,
   "id": "fa57f3b9",
   "metadata": {},
   "outputs": [
    {
     "data": {
      "text/plain": [
       "<AxesSubplot:>"
      ]
     },
     "execution_count": 28,
     "metadata": {},
     "output_type": "execute_result"
    },
    {
     "data": {
      "image/png": "[encoded data removed]",
      "text/plain": [
       "<Figure size 432x288 with 1 Axes>"
      ]
     },
     "metadata": {
      "needs_background": "light"
     },
     "output_type": "display_data"
    }
   ],
   "source": [
    "s = pd.Series(randn(10).cumsum(), index=np.arange(0, 100, 10))\n",
    "s.plot() \n",
    "# add .plot() can directly change it to a line plot? well, cool...\n",
    "# x-axis = index, y-axis = values"
   ]
  },
  {
   "cell_type": "code",
   "execution_count": 34,
   "id": "0819d32e",
   "metadata": {},
   "outputs": [
    {
     "data": {
      "text/plain": [
       "<AxesSubplot:>"
      ]
     },
     "execution_count": 34,
     "metadata": {},
     "output_type": "execute_result"
    },
    {
     "data": {
      "image/png": "[encoded data removed]",
      "text/plain": [
       "<Figure size 432x288 with 1 Axes>"
      ]
     },
     "metadata": {
      "needs_background": "light"
     },
     "output_type": "display_data"
    }
   ],
   "source": [
    "# line plot\n",
    "\n",
    "# cumsum() 只能相加一維的資料，若是二維資料要指定是相加 column 還是 row \n",
    "# .cumsum(axis=0) == .cumsum(0)\n",
    "df = pd.DataFrame(randn(100, 4).cumsum(axis=0), columns=['a','b','c','d'], index=np.arange(0, 100))\n",
    "df.plot()"
   ]
  },
  {
   "cell_type": "code",
   "execution_count": 37,
   "id": "1c289c98",
   "metadata": {},
   "outputs": [
    {
     "data": {
      "text/plain": [
       "<AxesSubplot:>"
      ]
     },
     "execution_count": 37,
     "metadata": {},
     "output_type": "execute_result"
    },
    {
     "data": {
      "image/png": "[encoded data removed]",
      "text/plain": [
       "<Figure size 864x720 with 2 Axes>"
      ]
     },
     "metadata": {
      "needs_background": "light"
     },
     "output_type": "display_data"
    }
   ],
   "source": [
    "# bar plot\n",
    "fig, axes = plt.subplots(2, 1, figsize = (12, 10)) # figsize = (width, height)\n",
    "data = pd.Series(np.random.rand(16), index=list('abcdefghijklmnop'))\n",
    "\n",
    "data.plot.bar(ax=axes[0], color='green', alpha=0.7)\n",
    "data.plot.barh(ax=axes[1], color='green', alpha=0.7)"
   ]
  },
  {
   "cell_type": "code",
   "execution_count": null,
   "id": "0e083a99",
   "metadata": {},
   "outputs": [],
   "source": []
  }
 ],
 "metadata": {
  "kernelspec": {
   "display_name": "Python 3",
   "language": "python",
   "name": "python3"
  },
  "language_info": {
   "codemirror_mode": {
    "name": "ipython",
    "version": 3
   },
   "file_extension": ".py",
   "mimetype": "text/x-python",
   "name": "python",
   "nbconvert_exporter": "python",
   "pygments_lexer": "ipython3",
   "version": "3.9.12"
  }
 },
 "nbformat": 4,
 "nbformat_minor": 5
}
